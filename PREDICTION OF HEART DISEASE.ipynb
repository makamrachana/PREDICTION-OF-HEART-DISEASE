{
 "cells": [
  {
   "cell_type": "markdown",
   "metadata": {},
   "source": [
    "# PREDICTION OF HEART DISEASE - RACHANA MAKAM (221710310041)"
   ]
  },
  {
   "cell_type": "code",
   "execution_count": 1,
   "metadata": {},
   "outputs": [
    {
     "name": "stdout",
     "output_type": "stream",
     "text": [
      "['.ipynb_checkpoints', 'PREDICTION OF HEART DISEASE.ipynb']\n"
     ]
    }
   ],
   "source": [
    "import numpy as np\n",
    "import pandas as pd\n",
    "import matplotlib.pyplot as plt\n",
    "import seaborn as sns\n",
    "%matplotlib inline\n",
    "import os\n",
    "print(os.listdir())\n",
    "import warnings\n",
    "warnings.filterwarnings('ignore')"
   ]
  },
  {
   "cell_type": "code",
   "execution_count": 2,
   "metadata": {},
   "outputs": [],
   "source": [
    "dataset = pd.read_csv(r\"C:\Users\rachana\Downloads\PREDICTION-OF-HEART-DISEASE-master\PREDICTION-OF-HEART-DISEASE-master\heart.csv\")"
   ]
  },
  {
   "cell_type": "code",
   "execution_count": 3,
   "metadata": {},
   "outputs": [
    {
     "data": {
      "text/plain": [
       "pandas.core.frame.DataFrame"
      ]
     },
     "execution_count": 3,
     "metadata": {},
     "output_type": "execute_result"
    }
   ],
   "source": [
    "type(dataset)"
   ]
  },
  {
   "cell_type": "code",
   "execution_count": 4,
   "metadata": {},
   "outputs": [
    {
     "data": {
      "text/plain": [
       "(303, 14)"
      ]
     },
     "execution_count": 4,
     "metadata": {},
     "output_type": "execute_result"
    }
   ],
   "source": [
    "dataset.shape"
   ]
  },
  {
   "cell_type": "code",
   "execution_count": 5,
   "metadata": {},
   "outputs": [
    {
     "data": {
      "text/html": [
       "<div>\n",
       "<style scoped>\n",
       "    .dataframe tbody tr th:only-of-type {\n",
       "        vertical-align: middle;\n",
       "    }\n",
       "\n",
       "    .dataframe tbody tr th {\n",
       "        vertical-align: top;\n",
       "    }\n",
       "\n",
       "    .dataframe thead th {\n",
       "        text-align: right;\n",
       "    }\n",
       "</style>\n",
       "<table border=\"1\" class=\"dataframe\">\n",
       "  <thead>\n",
       "    <tr style=\"text-align: right;\">\n",
       "      <th></th>\n",
       "      <th>age</th>\n",
       "      <th>sex</th>\n",
       "      <th>cp</th>\n",
       "      <th>trestbps</th>\n",
       "      <th>chol</th>\n",
       "      <th>fbs</th>\n",
       "      <th>restecg</th>\n",
       "      <th>thalach</th>\n",
       "      <th>exang</th>\n",
       "      <th>oldpeak</th>\n",
       "      <th>slope</th>\n",
       "      <th>ca</th>\n",
       "      <th>thal</th>\n",
       "      <th>target</th>\n",
       "    </tr>\n",
       "  </thead>\n",
       "  <tbody>\n",
       "    <tr>\n",
       "      <th>0</th>\n",
       "      <td>63</td>\n",
       "      <td>1</td>\n",
       "      <td>3</td>\n",
       "      <td>145</td>\n",
       "      <td>233</td>\n",
       "      <td>1</td>\n",
       "      <td>0</td>\n",
       "      <td>150</td>\n",
       "      <td>0</td>\n",
       "      <td>2.3</td>\n",
       "      <td>0</td>\n",
       "      <td>0</td>\n",
       "      <td>1</td>\n",
       "      <td>1</td>\n",
       "    </tr>\n",
       "    <tr>\n",
       "      <th>1</th>\n",
       "      <td>37</td>\n",
       "      <td>1</td>\n",
       "      <td>2</td>\n",
       "      <td>130</td>\n",
       "      <td>250</td>\n",
       "      <td>0</td>\n",
       "      <td>1</td>\n",
       "      <td>187</td>\n",
       "      <td>0</td>\n",
       "      <td>3.5</td>\n",
       "      <td>0</td>\n",
       "      <td>0</td>\n",
       "      <td>2</td>\n",
       "      <td>1</td>\n",
       "    </tr>\n",
       "    <tr>\n",
       "      <th>2</th>\n",
       "      <td>41</td>\n",
       "      <td>0</td>\n",
       "      <td>1</td>\n",
       "      <td>130</td>\n",
       "      <td>204</td>\n",
       "      <td>0</td>\n",
       "      <td>0</td>\n",
       "      <td>172</td>\n",
       "      <td>0</td>\n",
       "      <td>1.4</td>\n",
       "      <td>2</td>\n",
       "      <td>0</td>\n",
       "      <td>2</td>\n",
       "      <td>1</td>\n",
       "    </tr>\n",
       "    <tr>\n",
       "      <th>3</th>\n",
       "      <td>56</td>\n",
       "      <td>1</td>\n",
       "      <td>1</td>\n",
       "      <td>120</td>\n",
       "      <td>236</td>\n",
       "      <td>0</td>\n",
       "      <td>1</td>\n",
       "      <td>178</td>\n",
       "      <td>0</td>\n",
       "      <td>0.8</td>\n",
       "      <td>2</td>\n",
       "      <td>0</td>\n",
       "      <td>2</td>\n",
       "      <td>1</td>\n",
       "    </tr>\n",
       "    <tr>\n",
       "      <th>4</th>\n",
       "      <td>57</td>\n",
       "      <td>0</td>\n",
       "      <td>0</td>\n",
       "      <td>120</td>\n",
       "      <td>354</td>\n",
       "      <td>0</td>\n",
       "      <td>1</td>\n",
       "      <td>163</td>\n",
       "      <td>1</td>\n",
       "      <td>0.6</td>\n",
       "      <td>2</td>\n",
       "      <td>0</td>\n",
       "      <td>2</td>\n",
       "      <td>1</td>\n",
       "    </tr>\n",
       "  </tbody>\n",
       "</table>\n",
       "</div>"
      ],
      "text/plain": [
       "   age  sex  cp  trestbps  chol  fbs  restecg  thalach  exang  oldpeak  slope  \\\n",
       "0   63    1   3       145   233    1        0      150      0      2.3      0   \n",
       "1   37    1   2       130   250    0        1      187      0      3.5      0   \n",
       "2   41    0   1       130   204    0        0      172      0      1.4      2   \n",
       "3   56    1   1       120   236    0        1      178      0      0.8      2   \n",
       "4   57    0   0       120   354    0        1      163      1      0.6      2   \n",
       "\n",
       "   ca  thal  target  \n",
       "0   0     1       1  \n",
       "1   0     2       1  \n",
       "2   0     2       1  \n",
       "3   0     2       1  \n",
       "4   0     2       1  "
      ]
     },
     "execution_count": 5,
     "metadata": {},
     "output_type": "execute_result"
    }
   ],
   "source": [
    "dataset.head(5)"
   ]
  },
  {
   "cell_type": "code",
   "execution_count": 6,
   "metadata": {},
   "outputs": [
    {
     "data": {
      "text/html": [
       "<div>\n",
       "<style scoped>\n",
       "    .dataframe tbody tr th:only-of-type {\n",
       "        vertical-align: middle;\n",
       "    }\n",
       "\n",
       "    .dataframe tbody tr th {\n",
       "        vertical-align: top;\n",
       "    }\n",
       "\n",
       "    .dataframe thead th {\n",
       "        text-align: right;\n",
       "    }\n",
       "</style>\n",
       "<table border=\"1\" class=\"dataframe\">\n",
       "  <thead>\n",
       "    <tr style=\"text-align: right;\">\n",
       "      <th></th>\n",
       "      <th>age</th>\n",
       "      <th>sex</th>\n",
       "      <th>cp</th>\n",
       "      <th>trestbps</th>\n",
       "      <th>chol</th>\n",
       "      <th>fbs</th>\n",
       "      <th>restecg</th>\n",
       "      <th>thalach</th>\n",
       "      <th>exang</th>\n",
       "      <th>oldpeak</th>\n",
       "      <th>slope</th>\n",
       "      <th>ca</th>\n",
       "      <th>thal</th>\n",
       "      <th>target</th>\n",
       "    </tr>\n",
       "  </thead>\n",
       "  <tbody>\n",
       "    <tr>\n",
       "      <th>70</th>\n",
       "      <td>54</td>\n",
       "      <td>1</td>\n",
       "      <td>2</td>\n",
       "      <td>120</td>\n",
       "      <td>258</td>\n",
       "      <td>0</td>\n",
       "      <td>0</td>\n",
       "      <td>147</td>\n",
       "      <td>0</td>\n",
       "      <td>0.4</td>\n",
       "      <td>1</td>\n",
       "      <td>0</td>\n",
       "      <td>3</td>\n",
       "      <td>1</td>\n",
       "    </tr>\n",
       "    <tr>\n",
       "      <th>252</th>\n",
       "      <td>62</td>\n",
       "      <td>0</td>\n",
       "      <td>0</td>\n",
       "      <td>138</td>\n",
       "      <td>294</td>\n",
       "      <td>1</td>\n",
       "      <td>1</td>\n",
       "      <td>106</td>\n",
       "      <td>0</td>\n",
       "      <td>1.9</td>\n",
       "      <td>1</td>\n",
       "      <td>3</td>\n",
       "      <td>2</td>\n",
       "      <td>0</td>\n",
       "    </tr>\n",
       "    <tr>\n",
       "      <th>284</th>\n",
       "      <td>61</td>\n",
       "      <td>1</td>\n",
       "      <td>0</td>\n",
       "      <td>140</td>\n",
       "      <td>207</td>\n",
       "      <td>0</td>\n",
       "      <td>0</td>\n",
       "      <td>138</td>\n",
       "      <td>1</td>\n",
       "      <td>1.9</td>\n",
       "      <td>2</td>\n",
       "      <td>1</td>\n",
       "      <td>3</td>\n",
       "      <td>0</td>\n",
       "    </tr>\n",
       "    <tr>\n",
       "      <th>125</th>\n",
       "      <td>34</td>\n",
       "      <td>0</td>\n",
       "      <td>1</td>\n",
       "      <td>118</td>\n",
       "      <td>210</td>\n",
       "      <td>0</td>\n",
       "      <td>1</td>\n",
       "      <td>192</td>\n",
       "      <td>0</td>\n",
       "      <td>0.7</td>\n",
       "      <td>2</td>\n",
       "      <td>0</td>\n",
       "      <td>2</td>\n",
       "      <td>1</td>\n",
       "    </tr>\n",
       "    <tr>\n",
       "      <th>102</th>\n",
       "      <td>63</td>\n",
       "      <td>0</td>\n",
       "      <td>1</td>\n",
       "      <td>140</td>\n",
       "      <td>195</td>\n",
       "      <td>0</td>\n",
       "      <td>1</td>\n",
       "      <td>179</td>\n",
       "      <td>0</td>\n",
       "      <td>0.0</td>\n",
       "      <td>2</td>\n",
       "      <td>2</td>\n",
       "      <td>2</td>\n",
       "      <td>1</td>\n",
       "    </tr>\n",
       "  </tbody>\n",
       "</table>\n",
       "</div>"
      ],
      "text/plain": [
       "     age  sex  cp  trestbps  chol  fbs  restecg  thalach  exang  oldpeak  \\\n",
       "70    54    1   2       120   258    0        0      147      0      0.4   \n",
       "252   62    0   0       138   294    1        1      106      0      1.9   \n",
       "284   61    1   0       140   207    0        0      138      1      1.9   \n",
       "125   34    0   1       118   210    0        1      192      0      0.7   \n",
       "102   63    0   1       140   195    0        1      179      0      0.0   \n",
       "\n",
       "     slope  ca  thal  target  \n",
       "70       1   0     3       1  \n",
       "252      1   3     2       0  \n",
       "284      2   1     3       0  \n",
       "125      2   0     2       1  \n",
       "102      2   2     2       1  "
      ]
     },
     "execution_count": 6,
     "metadata": {},
     "output_type": "execute_result"
    }
   ],
   "source": [
    "dataset.sample(5)"
   ]
  },
  {
   "cell_type": "code",
   "execution_count": 7,
   "metadata": {},
   "outputs": [
    {
     "data": {
      "text/html": [
       "<div>\n",
       "<style scoped>\n",
       "    .dataframe tbody tr th:only-of-type {\n",
       "        vertical-align: middle;\n",
       "    }\n",
       "\n",
       "    .dataframe tbody tr th {\n",
       "        vertical-align: top;\n",
       "    }\n",
       "\n",
       "    .dataframe thead th {\n",
       "        text-align: right;\n",
       "    }\n",
       "</style>\n",
       "<table border=\"1\" class=\"dataframe\">\n",
       "  <thead>\n",
       "    <tr style=\"text-align: right;\">\n",
       "      <th></th>\n",
       "      <th>age</th>\n",
       "      <th>sex</th>\n",
       "      <th>cp</th>\n",
       "      <th>trestbps</th>\n",
       "      <th>chol</th>\n",
       "      <th>fbs</th>\n",
       "      <th>restecg</th>\n",
       "      <th>thalach</th>\n",
       "      <th>exang</th>\n",
       "      <th>oldpeak</th>\n",
       "      <th>slope</th>\n",
       "      <th>ca</th>\n",
       "      <th>thal</th>\n",
       "      <th>target</th>\n",
       "    </tr>\n",
       "  </thead>\n",
       "  <tbody>\n",
       "    <tr>\n",
       "      <th>count</th>\n",
       "      <td>303.000000</td>\n",
       "      <td>303.000000</td>\n",
       "      <td>303.000000</td>\n",
       "      <td>303.000000</td>\n",
       "      <td>303.000000</td>\n",
       "      <td>303.000000</td>\n",
       "      <td>303.000000</td>\n",
       "      <td>303.000000</td>\n",
       "      <td>303.000000</td>\n",
       "      <td>303.000000</td>\n",
       "      <td>303.000000</td>\n",
       "      <td>303.000000</td>\n",
       "      <td>303.000000</td>\n",
       "      <td>303.000000</td>\n",
       "    </tr>\n",
       "    <tr>\n",
       "      <th>mean</th>\n",
       "      <td>54.366337</td>\n",
       "      <td>0.683168</td>\n",
       "      <td>0.966997</td>\n",
       "      <td>131.623762</td>\n",
       "      <td>246.264026</td>\n",
       "      <td>0.148515</td>\n",
       "      <td>0.528053</td>\n",
       "      <td>149.646865</td>\n",
       "      <td>0.326733</td>\n",
       "      <td>1.039604</td>\n",
       "      <td>1.399340</td>\n",
       "      <td>0.729373</td>\n",
       "      <td>2.313531</td>\n",
       "      <td>0.544554</td>\n",
       "    </tr>\n",
       "    <tr>\n",
       "      <th>std</th>\n",
       "      <td>9.082101</td>\n",
       "      <td>0.466011</td>\n",
       "      <td>1.032052</td>\n",
       "      <td>17.538143</td>\n",
       "      <td>51.830751</td>\n",
       "      <td>0.356198</td>\n",
       "      <td>0.525860</td>\n",
       "      <td>22.905161</td>\n",
       "      <td>0.469794</td>\n",
       "      <td>1.161075</td>\n",
       "      <td>0.616226</td>\n",
       "      <td>1.022606</td>\n",
       "      <td>0.612277</td>\n",
       "      <td>0.498835</td>\n",
       "    </tr>\n",
       "    <tr>\n",
       "      <th>min</th>\n",
       "      <td>29.000000</td>\n",
       "      <td>0.000000</td>\n",
       "      <td>0.000000</td>\n",
       "      <td>94.000000</td>\n",
       "      <td>126.000000</td>\n",
       "      <td>0.000000</td>\n",
       "      <td>0.000000</td>\n",
       "      <td>71.000000</td>\n",
       "      <td>0.000000</td>\n",
       "      <td>0.000000</td>\n",
       "      <td>0.000000</td>\n",
       "      <td>0.000000</td>\n",
       "      <td>0.000000</td>\n",
       "      <td>0.000000</td>\n",
       "    </tr>\n",
       "    <tr>\n",
       "      <th>25%</th>\n",
       "      <td>47.500000</td>\n",
       "      <td>0.000000</td>\n",
       "      <td>0.000000</td>\n",
       "      <td>120.000000</td>\n",
       "      <td>211.000000</td>\n",
       "      <td>0.000000</td>\n",
       "      <td>0.000000</td>\n",
       "      <td>133.500000</td>\n",
       "      <td>0.000000</td>\n",
       "      <td>0.000000</td>\n",
       "      <td>1.000000</td>\n",
       "      <td>0.000000</td>\n",
       "      <td>2.000000</td>\n",
       "      <td>0.000000</td>\n",
       "    </tr>\n",
       "    <tr>\n",
       "      <th>50%</th>\n",
       "      <td>55.000000</td>\n",
       "      <td>1.000000</td>\n",
       "      <td>1.000000</td>\n",
       "      <td>130.000000</td>\n",
       "      <td>240.000000</td>\n",
       "      <td>0.000000</td>\n",
       "      <td>1.000000</td>\n",
       "      <td>153.000000</td>\n",
       "      <td>0.000000</td>\n",
       "      <td>0.800000</td>\n",
       "      <td>1.000000</td>\n",
       "      <td>0.000000</td>\n",
       "      <td>2.000000</td>\n",
       "      <td>1.000000</td>\n",
       "    </tr>\n",
       "    <tr>\n",
       "      <th>75%</th>\n",
       "      <td>61.000000</td>\n",
       "      <td>1.000000</td>\n",
       "      <td>2.000000</td>\n",
       "      <td>140.000000</td>\n",
       "      <td>274.500000</td>\n",
       "      <td>0.000000</td>\n",
       "      <td>1.000000</td>\n",
       "      <td>166.000000</td>\n",
       "      <td>1.000000</td>\n",
       "      <td>1.600000</td>\n",
       "      <td>2.000000</td>\n",
       "      <td>1.000000</td>\n",
       "      <td>3.000000</td>\n",
       "      <td>1.000000</td>\n",
       "    </tr>\n",
       "    <tr>\n",
       "      <th>max</th>\n",
       "      <td>77.000000</td>\n",
       "      <td>1.000000</td>\n",
       "      <td>3.000000</td>\n",
       "      <td>200.000000</td>\n",
       "      <td>564.000000</td>\n",
       "      <td>1.000000</td>\n",
       "      <td>2.000000</td>\n",
       "      <td>202.000000</td>\n",
       "      <td>1.000000</td>\n",
       "      <td>6.200000</td>\n",
       "      <td>2.000000</td>\n",
       "      <td>4.000000</td>\n",
       "      <td>3.000000</td>\n",
       "      <td>1.000000</td>\n",
       "    </tr>\n",
       "  </tbody>\n",
       "</table>\n",
       "</div>"
      ],
      "text/plain": [
       "              age         sex          cp    trestbps        chol         fbs  \\\n",
       "count  303.000000  303.000000  303.000000  303.000000  303.000000  303.000000   \n",
       "mean    54.366337    0.683168    0.966997  131.623762  246.264026    0.148515   \n",
       "std      9.082101    0.466011    1.032052   17.538143   51.830751    0.356198   \n",
       "min     29.000000    0.000000    0.000000   94.000000  126.000000    0.000000   \n",
       "25%     47.500000    0.000000    0.000000  120.000000  211.000000    0.000000   \n",
       "50%     55.000000    1.000000    1.000000  130.000000  240.000000    0.000000   \n",
       "75%     61.000000    1.000000    2.000000  140.000000  274.500000    0.000000   \n",
       "max     77.000000    1.000000    3.000000  200.000000  564.000000    1.000000   \n",
       "\n",
       "          restecg     thalach       exang     oldpeak       slope          ca  \\\n",
       "count  303.000000  303.000000  303.000000  303.000000  303.000000  303.000000   \n",
       "mean     0.528053  149.646865    0.326733    1.039604    1.399340    0.729373   \n",
       "std      0.525860   22.905161    0.469794    1.161075    0.616226    1.022606   \n",
       "min      0.000000   71.000000    0.000000    0.000000    0.000000    0.000000   \n",
       "25%      0.000000  133.500000    0.000000    0.000000    1.000000    0.000000   \n",
       "50%      1.000000  153.000000    0.000000    0.800000    1.000000    0.000000   \n",
       "75%      1.000000  166.000000    1.000000    1.600000    2.000000    1.000000   \n",
       "max      2.000000  202.000000    1.000000    6.200000    2.000000    4.000000   \n",
       "\n",
       "             thal      target  \n",
       "count  303.000000  303.000000  \n",
       "mean     2.313531    0.544554  \n",
       "std      0.612277    0.498835  \n",
       "min      0.000000    0.000000  \n",
       "25%      2.000000    0.000000  \n",
       "50%      2.000000    1.000000  \n",
       "75%      3.000000    1.000000  \n",
       "max      3.000000    1.000000  "
      ]
     },
     "execution_count": 7,
     "metadata": {},
     "output_type": "execute_result"
    }
   ],
   "source": [
    "dataset.describe()"
   ]
  },
  {
   "cell_type": "code",
   "execution_count": 8,
   "metadata": {},
   "outputs": [
    {
     "name": "stdout",
     "output_type": "stream",
     "text": [
      "<class 'pandas.core.frame.DataFrame'>\n",
      "RangeIndex: 303 entries, 0 to 302\n",
      "Data columns (total 14 columns):\n",
      " #   Column    Non-Null Count  Dtype  \n",
      "---  ------    --------------  -----  \n",
      " 0   age       303 non-null    int64  \n",
      " 1   sex       303 non-null    int64  \n",
      " 2   cp        303 non-null    int64  \n",
      " 3   trestbps  303 non-null    int64  \n",
      " 4   chol      303 non-null    int64  \n",
      " 5   fbs       303 non-null    int64  \n",
      " 6   restecg   303 non-null    int64  \n",
      " 7   thalach   303 non-null    int64  \n",
      " 8   exang     303 non-null    int64  \n",
      " 9   oldpeak   303 non-null    float64\n",
      " 10  slope     303 non-null    int64  \n",
      " 11  ca        303 non-null    int64  \n",
      " 12  thal      303 non-null    int64  \n",
      " 13  target    303 non-null    int64  \n",
      "dtypes: float64(1), int64(13)\n",
      "memory usage: 33.3 KB\n"
     ]
    }
   ],
   "source": [
    "dataset.info()"
   ]
  },
  {
   "cell_type": "code",
   "execution_count": 9,
   "metadata": {},
   "outputs": [
    {
     "name": "stdout",
     "output_type": "stream",
     "text": [
      "age:\t\t\tage\n",
      "sex:\t\t\t1: male, 0: female\n",
      "cp:\t\t\tchest pain type, 1: typical angina, 2: atypical angina, 3: non-anginal pain, 4: asymptomatic\n",
      "trestbps:\t\t\tresting blood pressure\n",
      "chol:\t\t\t serum cholestoral in mg/dl\n",
      "fbs:\t\t\tfasting blood sugar > 120 mg/dl\n",
      "restecg:\t\t\tresting electrocardiographic results (values 0,1,2)\n",
      "thalach:\t\t\t maximum heart rate achieved\n",
      "exang:\t\t\texercise induced angina\n",
      "oldpeak:\t\t\toldpeak = ST depression induced by exercise relative to rest\n",
      "slope:\t\t\tthe slope of the peak exercise ST segment\n",
      "ca:\t\t\tnumber of major vessels (0-3) colored by flourosopy\n",
      "thal:\t\t\tthal: 3 = normal; 6 = fixed defect; 7 = reversable defect\n"
     ]
    }
   ],
   "source": [
    "info = [\"age\",\"1: male, 0: female\",\"chest pain type, 1: typical angina, 2: atypical angina, 3: non-anginal pain, 4: asymptomatic\",\"resting blood pressure\",\" serum cholestoral in mg/dl\",\"fasting blood sugar > 120 mg/dl\",\"resting electrocardiographic results (values 0,1,2)\",\" maximum heart rate achieved\",\"exercise induced angina\",\"oldpeak = ST depression induced by exercise relative to rest\",\"the slope of the peak exercise ST segment\",\"number of major vessels (0-3) colored by flourosopy\",\"thal: 3 = normal; 6 = fixed defect; 7 = reversable defect\"]\n",
    "for i in range(len(info)):\n",
    "    print(dataset.columns[i]+\":\\t\\t\\t\"+info[i])"
   ]
  },
  {
   "cell_type": "code",
   "execution_count": 10,
   "metadata": {},
   "outputs": [
    {
     "data": {
      "text/plain": [
       "count    303.000000\n",
       "mean       0.544554\n",
       "std        0.498835\n",
       "min        0.000000\n",
       "25%        0.000000\n",
       "50%        1.000000\n",
       "75%        1.000000\n",
       "max        1.000000\n",
       "Name: target, dtype: float64"
      ]
     },
     "execution_count": 10,
     "metadata": {},
     "output_type": "execute_result"
    }
   ],
   "source": [
    "dataset[\"target\"].describe()"
   ]
  },
  {
   "cell_type": "code",
   "execution_count": 11,
   "metadata": {},
   "outputs": [
    {
     "data": {
      "text/plain": [
       "array([1, 0], dtype=int64)"
      ]
     },
     "execution_count": 11,
     "metadata": {},
     "output_type": "execute_result"
    }
   ],
   "source": [
    "dataset[\"target\"].unique()"
   ]
  },
  {
   "cell_type": "markdown",
   "metadata": {},
   "source": [
    "#### CHECKING CORRELATION BETWEEN COLOUMNS "
   ]
  },
  {
   "cell_type": "code",
   "execution_count": 12,
   "metadata": {},
   "outputs": [
    {
     "name": "stdout",
     "output_type": "stream",
     "text": [
      "target      1.000000\n",
      "exang       0.436757\n",
      "cp          0.433798\n",
      "oldpeak     0.430696\n",
      "thalach     0.421741\n",
      "ca          0.391724\n",
      "slope       0.345877\n",
      "thal        0.344029\n",
      "sex         0.280937\n",
      "age         0.225439\n",
      "trestbps    0.144931\n",
      "restecg     0.137230\n",
      "chol        0.085239\n",
      "fbs         0.028046\n",
      "Name: target, dtype: float64\n"
     ]
    }
   ],
   "source": [
    "print(dataset.corr()[\"target\"].abs().sort_values(ascending=False))"
   ]
  },
  {
   "cell_type": "markdown",
   "metadata": {},
   "source": [
    "### EXPLORATORY DATA ANALYSIS (EDA)"
   ]
  },
  {
   "cell_type": "markdown",
   "metadata": {},
   "source": [
    "#### ANALYSING TARGET VARIABLE"
   ]
  },
  {
   "cell_type": "code",
   "execution_count": 13,
   "metadata": {},
   "outputs": [
    {
     "name": "stdout",
     "output_type": "stream",
     "text": [
      "1    165\n",
      "0    138\n",
      "Name: target, dtype: int64\n"
     ]
    },
    {
     "data": {
      "image/png": "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\n",
      "text/plain": [
       "<Figure size 432x288 with 1 Axes>"
      ]
     },
     "metadata": {
      "needs_background": "light"
     },
     "output_type": "display_data"
    }
   ],
   "source": [
    "y = dataset[\"target\"]\n",
    "sns.countplot(y)\n",
    "target_temp = dataset.target.value_counts()\n",
    "print(target_temp)"
   ]
  },
  {
   "cell_type": "code",
   "execution_count": 14,
   "metadata": {},
   "outputs": [
    {
     "name": "stdout",
     "output_type": "stream",
     "text": [
      "Percentage of patience without heart problems: 45.54\n",
      "Percentage of patience with heart problems: 54.46\n"
     ]
    }
   ],
   "source": [
    "print(\"Percentage of patience without heart problems: \"+str(round(target_temp[0]*100/303,2)))\n",
    "print(\"Percentage of patience with heart problems: \"+str(round(target_temp[1]*100/303,2)))"
   ]
  },
  {
   "cell_type": "markdown",
   "metadata": {},
   "source": [
    "#### ANALYSING THE \"SEX\" FEATURE"
   ]
  },
  {
   "cell_type": "code",
   "execution_count": 15,
   "metadata": {},
   "outputs": [
    {
     "data": {
      "text/plain": [
       "array([1, 0], dtype=int64)"
      ]
     },
     "execution_count": 15,
     "metadata": {},
     "output_type": "execute_result"
    }
   ],
   "source": [
    "dataset[\"sex\"].unique()"
   ]
  },
  {
   "cell_type": "code",
   "execution_count": 16,
   "metadata": {},
   "outputs": [
    {
     "data": {
      "text/plain": [
       "<matplotlib.axes._subplots.AxesSubplot at 0x289d9727648>"
      ]
     },
     "execution_count": 16,
     "metadata": {},
     "output_type": "execute_result"
    },
    {
     "data": {
      "image/png": "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\n",
      "text/plain": [
       "<Figure size 432x288 with 1 Axes>"
      ]
     },
     "metadata": {
      "needs_background": "light"
     },
     "output_type": "display_data"
    }
   ],
   "source": [
    "sns.barplot(dataset[\"sex\"],y)"
   ]
  },
  {
   "cell_type": "markdown",
   "metadata": {},
   "source": [
    "#### ANALYSING THE \"CHEST PAIN TYPE\" FEATURE"
   ]
  },
  {
   "cell_type": "code",
   "execution_count": 17,
   "metadata": {},
   "outputs": [
    {
     "data": {
      "text/plain": [
       "array([3, 2, 1, 0], dtype=int64)"
      ]
     },
     "execution_count": 17,
     "metadata": {},
     "output_type": "execute_result"
    }
   ],
   "source": [
    "dataset[\"cp\"].unique()"
   ]
  },
  {
   "cell_type": "code",
   "execution_count": 18,
   "metadata": {},
   "outputs": [
    {
     "data": {
      "text/plain": [
       "<matplotlib.axes._subplots.AxesSubplot at 0x289d9793688>"
      ]
     },
     "execution_count": 18,
     "metadata": {},
     "output_type": "execute_result"
    },
    {
     "data": {
      "image/png": "iVBORw0KGgoAAAANSUhEUgAAAYIAAAEGCAYAAABo25JHAAAABHNCSVQICAgIfAhkiAAAAAlwSFlzAAALEgAACxIB0t1+/AAAADh0RVh0U29mdHdhcmUAbWF0cGxvdGxpYiB2ZXJzaW9uMy4xLjMsIGh0dHA6Ly9tYXRwbG90bGliLm9yZy+AADFEAAAPWUlEQVR4nO3df6xfdX3H8eeLYmUWlGDrqqVapnUbOibxrps2ARXdiollfzhDM+aWEJnbUDd/EPYjbMNsyeqmZgaXNdP4Iyrr0GhjaphztWZEXC8KuLarNlXshTUUFRR/Qel7f9wv7u722/bb6z338L2f5yO54XvO+fT7fXFCed3zOd9zTqoKSVK7Tus7gCSpXxaBJDXOIpCkxlkEktQ4i0CSGnd63wFO1fLly2vNmjV9x5CksXLbbbfdV1Urhm0buyJYs2YNk5OTfceQpLGS5K7jbXNqSJIaZxFIUuMsAklqnEUgSY2zCCSpcRaBJDXOIpCkxlkEktS4sbugTO255pprOHToECtXrmTz5s19x5EWHYtAj3mHDh3i7rvv7juGtGg5NSRJjbMIJKlxFoEkNc4ikKTGWQSS1DiLQJIaZxFIUuMsAklqnBeUSQ3xKm0NYxFIDfEq7fm1WIrVIpCkOVosxeo5AklqnEUgSY2zCCSpcRaBJDXOIpCkxlkEktQ4i0CSGmcRSFLjLAJJapxFIEmN8xYTOqFvXP8LfUfgyLfOAU7nyLfu6jXP06/7cm+fLXXJIwJJalynRZBkQ5J9SfYnuXbI9qcn2ZHkS0nuTPLyLvNIko7VWREkWQLcAFwKnA9sSnL+rGF/BmytqguBy4F3d5VHkjRcl0cE64D9VXWgqh4CbgQumzWmgCcOXj8JuKfDPJKkIbosglXAwRnLU4N1M/0FcEWSKWA78Lphb5TkqiSTSSYPHz7cRVZJalaX3xrKkHU1a3kT8L6q+rskLwA+mOS5VXX0//2hqi3AFoCJiYnZ7yGNjfXvWt/r5y+9fymncRoH7z/Ye5ZbXndLr5+v/9PlEcEUsHrG8rkcO/VzJbAVoKo+D5wBLO8wkyRpli6LYBewNsl5SZYyfTJ426wx3wAuAUjy80wXgXM/krSAOiuCqjoCXA3cDOxl+ttBu5Ncn2TjYNibgNckuQP4CPA7VeXUjyQtoE6vLK6q7UyfBJ657roZr/cA/U5USlLjvLJYkhpnEUhS4ywCSWqcRSBJjbMIJKlxFoEkNc4ikKTGWQSS1DiLQJIaZxFIUuMsAklqnEUgSY2zCCSpcRaBJDXOIpCkxlkEktQ4i0CSGtfpE8qk+bD8jKPAkcE/9ZOoJxRHOUo9YXE8EXbnRRf3+vk/OH0JJPxgaqr3LBd/buec/6xFoMe8N19wf98RFo2H1z/cdwQ9Bjk1JEmNswgkqXEWgSQ1ziKQpMZZBJLUOItAkhpnEUhS4ywCSWqcRSBJjbMIJKlxFoEkNc4ikKTGWQSS1DiLQJIaZxFIUuMsAklqnEUgSY3rtAiSbEiyL8n+JNceZ8yrkuxJsjvJh7vMI0k6VmePqkyyBLgBeBkwBexKsq2q9swYsxb4Y2B9VX07yVO6yiNJGq7LI4J1wP6qOlBVDwE3ApfNGvMa4Iaq+jZAVd3bYR5J0hBdFsEq4OCM5anBupmeDTw7yS1Jbk2yYdgbJbkqyWSSycOHD3cUV5La1GURZMi6mrV8OrAWeBGwCfinJGcf84eqtlTVRFVNrFixYt6DSlLLuiyCKWD1jOVzgXuGjPlEVT1cVV8D9jFdDJKkBdJlEewC1iY5L8lS4HJg26wxHwdeDJBkOdNTRQc6zCRJmqWzIqiqI8DVwM3AXmBrVe1Ocn2SjYNhNwPfTLIH2AG8paq+2VUmSdKxOvv6KEBVbQe2z1p33YzXBbxx8CNJ6oFXFktS4ywCSWqcRSBJjbMIJKlxFoEkNc4ikKTGWQSS1LiTFkGS9aOskySNp1GOCN414jpJ0hg67pXFSV4AvBBYkWTmlb9PBJZ0HUyStDBOdIuJpcCZgzFnzVj/HeCVXYaSJC2c4xZBVe0EdiZ5X1XdlWRZVX1vAbNJkhbAKOcInja4O+hegCS/mOTd3caSpMe+s6s4p4qza/Yzt8bLKHcffSfwawyeJVBVdyS5qNNUkjQGrnjkaN8R5sVI1xFU1cFZqx7pIIskqQejHBEcTPJCoAZPGns9g2kiSdL4G+WI4LXAHwCrmH7G8PMGy5KkReCkRwRVdR/wmwuQRZLUg5MWQZK/H7L6AWCyqj4x/5EkSQtplKmhM5ieDvrq4OcC4BzgyiTv7DCbJGkBjHKy+FnAS6rqCECSfwD+FXgZ8OUOs0mSFsAoRwSrgGUzlpcBT6uqR4AfdZJKkrRgRjki2AzcnuSzQICLgL9Osgz4tw6zSZIWwAmLIEmYngbaDqxjugj+pKruGQx5S7fxJEldO2ERVFUl+XhVPR/wG0KStAiNco7g1iS/1HkSSVIvRjlH8GLgd5PcBXyP6emhqqoLOk0mSVoQoxTBpZ2nkCT1ZpRbTNwFkOQpTF9cJklaRE56jiDJxiRfBb4G7AS+Dnyq41ySpAUyysnitwK/Anylqs4DLgFu6TSVJGnBjFIED1fVN4HTkpxWVTuYvveQJGkRGOVk8f1JzgQ+B3woyb3Aw93GkiQtlFGK4A7g+8AfMf1cgicBZ3YZSpK0cEa6jqCqjgJHgfcDJLmz01SSpAVz3CJI8nvA7wPPnPU//rPwZLEkLRonOln8YeAVTN9j6BUzfp5fVVeM8uZJNiTZl2R/kmtPMO6VSSrJxClklyTNg+MeEVTVA0w/knLTXN44yRLgBqYfYDMF7Eqyrar2zBp3FvB64Atz+RxJ0k9mlK+PztU6YH9VHaiqh4AbgcuGjHsr0888+GGHWSRJx9FlEawCDs5Ynhqs+7EkFwKrq+qTJ3qjJFclmUwyefjw4flPKkkN67IIMmRd/XhjchrwDuBNJ3ujqtpSVRNVNbFixYp5jChJ6rIIpoDVM5bPBe6ZsXwW8Fzgs0m+zvRtLLZ5wliSFlaXRbALWJvkvCRLgcuBbY9urKoHqmp5Va2pqjXArcDGqprsMJMkaZbOiqCqjgBXAzcDe4GtVbU7yfVJNnb1uZKkUzPKlcVzVlXbmX7w/cx11x1n7Iu6zCJJGq7LqSFJ0hiwCCSpcRaBJDXOIpCkxlkEktQ4i0CSGtfp10dbdc0113Do0CFWrlzJ5s2b+44jSSdkEXTg0KFD3H333X3HkKSRODUkSY2zCCSpcRaBJDXOIpCkxlkEktQ4i0CSGmcRSFLjLAJJapxFIEmNswgkqXEWgSQ1ziKQpMZZBJLUOItAkhq36G5D/fy3fKDvCJx133dZAnzjvu/2mue2t726t8+WND48IpCkxlkEktQ4i0CSGmcRSFLjLAJJapxFIEmNswgkqXEWgSQ1ziKQpMZZBJLUOItAkhpnEUhS4ywCSWpcp0WQZEOSfUn2J7l2yPY3JtmT5M4kn0nyjC7zSJKO1VkRJFkC3ABcCpwPbEpy/qxhXwImquoC4CZgc1d5JEnDdXlEsA7YX1UHquoh4EbgspkDqmpHVX1/sHgrcG6HeSRJQ3RZBKuAgzOWpwbrjudK4FPDNiS5KslkksnDhw/PY8RuHF26jEce/0SOLl3WdxRJOqkun1CWIetq6MDkCmACuHjY9qraAmwBmJiYGPoejyXfW/urfUeQpJF1WQRTwOoZy+cC98welOSlwJ8CF1fVjzrMI0kaosupoV3A2iTnJVkKXA5smzkgyYXAPwIbq+reDrNIko6jsyKoqiPA1cDNwF5ga1XtTnJ9ko2DYW8DzgT+JcntSbYd5+0kSR3pcmqIqtoObJ+17roZr1/a5edLkk7OK4slqXEWgSQ1ziKQpMZZBJLUOItAkhpnEUhS4ywCSWqcRSBJjbMIJKlxFoEkNc4ikKTGWQSS1DiLQJIaZxFIUuMsAklqnEUgSY2zCCSpcRaBJDXOIpCkxlkEktQ4i0CSGmcRSFLjLAJJapxFIEmNswgkqXEWgSQ1ziKQpMZZBJLUOItAkhpnEUhS4ywCSWqcRSBJjbMIJKlxFoEkNc4ikKTGWQSS1LhOiyDJhiT7kuxPcu2Q7Y9P8s+D7V9IsqbLPJKkY3VWBEmWADcAlwLnA5uSnD9r2JXAt6vqWcA7gL/pKo8kabgujwjWAfur6kBVPQTcCFw2a8xlwPsHr28CLkmSDjNJkmY5vcP3XgUcnLE8Bfzy8cZU1ZEkDwBPBu6bOSjJVcBVg8UHk+zrJPH8Ws6sf4+Flr/97T4/fr71vj/580XzO0r/+xLI692f8+rkv0M/43gbuiyCYalqDmOoqi3AlvkItVCSTFbVRN85Fgv35/xxX86vxbA/u5wamgJWz1g+F7jneGOSnA48CfhWh5kkSbN0WQS7gLVJzkuyFLgc2DZrzDbg0fmLVwL/XlXHHBFIkrrT2dTQYM7/auBmYAnw3qraneR6YLKqtgHvAT6YZD/TRwKXd5WnB2M1lTUG3J/zx305v8Z+f8ZfwCWpbV5ZLEmNswgkqXEWwTw72W01dGqSvDfJvUn+q+8s4y7J6iQ7kuxNsjvJG/rONM6SnJHkP5PcMdiff9l3prnyHME8GtxW4yvAy5j+auwuYFNV7ek12BhLchHwIPCBqnpu33nGWZKnAk+tqi8mOQu4Dfh1//ucm8FdEJZV1YNJHgf8B/CGqrq152inzCOC+TXKbTV0Cqrqc3htybyoqv+pqi8OXn8X2Mv01f2ag5r24GDxcYOfsfzN2iKYX8Nuq+FfND3mDO70eyHwhX6TjLckS5LcDtwLfLqqxnJ/WgTza6RbZkh9SnIm8FHgD6vqO33nGWdV9UhVPY/pOyesSzKW05cWwfwa5bYaUm8Gc9kfBT5UVR/rO89iUVX3A58FNvQcZU4sgvk1ym01pF4MTm6+B9hbVW/vO8+4S7IiydmD1z8FvBT4735TzY1FMI+q6gjw6G019gJbq2p3v6nGW5KPAJ8HfjbJVJIr+840xtYDvwW8JMntg5+X9x1qjD0V2JHkTqZ/Cfx0VX2y50xz4tdHJalxHhFIUuMsAklqnEUgSY2zCCSpcRaBJDXOIpCkxlkEktS4zp5ZLC12SV4NvJnp+0ndCTwC/BB4DvDTwBvH9QIjtcULyqQ5SPIc4GPA+qq6L8k5wNuBlcDLgWcCO4BnVdUP+0sqnZxTQ9LcvAS4qaruA6iqR5+ZsLWqjlbVV4EDwM/1FVAalUUgzU0Yfovx2es85NZjnkUgzc1ngFcleTLAYGoI4DeSnJbkmcDPAPv6CiiNypPF0hxU1e4kfwXsTPII8KXBpn3ATqZPFr/W8wMaB54sluZJkvcBn6yqm/rOIp0Kp4YkqXEeEUhS4zwikKTGWQSS1DiLQJIaZxFIUuMsAklq3P8C/mS/THe7LS4AAAAASUVORK5CYII=\n",
      "text/plain": [
       "<Figure size 432x288 with 1 Axes>"
      ]
     },
     "metadata": {
      "needs_background": "light"
     },
     "output_type": "display_data"
    }
   ],
   "source": [
    "sns.barplot(dataset[\"cp\"],y)"
   ]
  },
  {
   "cell_type": "markdown",
   "metadata": {},
   "source": [
    "#### ANALYSING THE \"FASTING BLOOD SUGAR\" FEATURE"
   ]
  },
  {
   "cell_type": "code",
   "execution_count": 19,
   "metadata": {},
   "outputs": [
    {
     "data": {
      "text/plain": [
       "count    303.000000\n",
       "mean       0.148515\n",
       "std        0.356198\n",
       "min        0.000000\n",
       "25%        0.000000\n",
       "50%        0.000000\n",
       "75%        0.000000\n",
       "max        1.000000\n",
       "Name: fbs, dtype: float64"
      ]
     },
     "execution_count": 19,
     "metadata": {},
     "output_type": "execute_result"
    }
   ],
   "source": [
    "dataset[\"fbs\"].describe()"
   ]
  },
  {
   "cell_type": "code",
   "execution_count": 20,
   "metadata": {},
   "outputs": [
    {
     "data": {
      "text/plain": [
       "array([1, 0], dtype=int64)"
      ]
     },
     "execution_count": 20,
     "metadata": {},
     "output_type": "execute_result"
    }
   ],
   "source": [
    "dataset[\"fbs\"].unique()"
   ]
  },
  {
   "cell_type": "code",
   "execution_count": 21,
   "metadata": {},
   "outputs": [
    {
     "data": {
      "text/plain": [
       "<matplotlib.axes._subplots.AxesSubplot at 0x289d9806e08>"
      ]
     },
     "execution_count": 21,
     "metadata": {},
     "output_type": "execute_result"
    },
    {
     "data": {
      "image/png": "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\n",
      "text/plain": [
       "<Figure size 432x288 with 1 Axes>"
      ]
     },
     "metadata": {
      "needs_background": "light"
     },
     "output_type": "display_data"
    }
   ],
   "source": [
    "sns.barplot(dataset[\"fbs\"],y)"
   ]
  },
  {
   "cell_type": "markdown",
   "metadata": {},
   "source": [
    "#### ANALYSING THE \"REST ECG\" FEATURE"
   ]
  },
  {
   "cell_type": "code",
   "execution_count": 22,
   "metadata": {},
   "outputs": [
    {
     "data": {
      "text/plain": [
       "array([0, 1, 2], dtype=int64)"
      ]
     },
     "execution_count": 22,
     "metadata": {},
     "output_type": "execute_result"
    }
   ],
   "source": [
    "dataset[\"restecg\"].unique()"
   ]
  },
  {
   "cell_type": "code",
   "execution_count": 23,
   "metadata": {},
   "outputs": [
    {
     "data": {
      "text/plain": [
       "<matplotlib.axes._subplots.AxesSubplot at 0x289d98676c8>"
      ]
     },
     "execution_count": 23,
     "metadata": {},
     "output_type": "execute_result"
    },
    {
     "data": {
      "image/png": "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\n",
      "text/plain": [
       "<Figure size 432x288 with 1 Axes>"
      ]
     },
     "metadata": {
      "needs_background": "light"
     },
     "output_type": "display_data"
    }
   ],
   "source": [
    "sns.barplot(dataset[\"restecg\"],y)"
   ]
  },
  {
   "cell_type": "markdown",
   "metadata": {},
   "source": [
    "#### ANALYSING THE \"EXERCISE INCLUDED AGINA\" FEATURE"
   ]
  },
  {
   "cell_type": "code",
   "execution_count": 24,
   "metadata": {},
   "outputs": [
    {
     "data": {
      "text/plain": [
       "array([0, 1], dtype=int64)"
      ]
     },
     "execution_count": 24,
     "metadata": {},
     "output_type": "execute_result"
    }
   ],
   "source": [
    "dataset[\"exang\"].unique()"
   ]
  },
  {
   "cell_type": "code",
   "execution_count": 25,
   "metadata": {},
   "outputs": [
    {
     "data": {
      "text/plain": [
       "<matplotlib.axes._subplots.AxesSubplot at 0x289d98d7e88>"
      ]
     },
     "execution_count": 25,
     "metadata": {},
     "output_type": "execute_result"
    },
    {
     "data": {
      "image/png": "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\n",
      "text/plain": [
       "<Figure size 432x288 with 1 Axes>"
      ]
     },
     "metadata": {
      "needs_background": "light"
     },
     "output_type": "display_data"
    }
   ],
   "source": [
    "sns.barplot(dataset[\"exang\"],y)"
   ]
  },
  {
   "cell_type": "markdown",
   "metadata": {},
   "source": [
    "#### ANALYSING THE \"SLOPE\" FEATURE"
   ]
  },
  {
   "cell_type": "code",
   "execution_count": 26,
   "metadata": {},
   "outputs": [
    {
     "data": {
      "text/plain": [
       "array([0, 2, 1], dtype=int64)"
      ]
     },
     "execution_count": 26,
     "metadata": {},
     "output_type": "execute_result"
    }
   ],
   "source": [
    "dataset[\"slope\"].unique()"
   ]
  },
  {
   "cell_type": "code",
   "execution_count": 27,
   "metadata": {},
   "outputs": [
    {
     "data": {
      "text/plain": [
       "<matplotlib.axes._subplots.AxesSubplot at 0x289d9934f88>"
      ]
     },
     "execution_count": 27,
     "metadata": {},
     "output_type": "execute_result"
    },
    {
     "data": {
      "image/png": "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\n",
      "text/plain": [
       "<Figure size 432x288 with 1 Axes>"
      ]
     },
     "metadata": {
      "needs_background": "light"
     },
     "output_type": "display_data"
    }
   ],
   "source": [
    "sns.barplot(dataset[\"slope\"],y)"
   ]
  },
  {
   "cell_type": "markdown",
   "metadata": {},
   "source": [
    "#### ANALYSING THE \"CA\" FEATURE"
   ]
  },
  {
   "cell_type": "code",
   "execution_count": 28,
   "metadata": {},
   "outputs": [
    {
     "data": {
      "text/plain": [
       "array([0, 2, 1, 3, 4], dtype=int64)"
      ]
     },
     "execution_count": 28,
     "metadata": {},
     "output_type": "execute_result"
    }
   ],
   "source": [
    "dataset[\"ca\"].unique()"
   ]
  },
  {
   "cell_type": "code",
   "execution_count": 29,
   "metadata": {},
   "outputs": [
    {
     "data": {
      "text/plain": [
       "<matplotlib.axes._subplots.AxesSubplot at 0x289d999a748>"
      ]
     },
     "execution_count": 29,
     "metadata": {},
     "output_type": "execute_result"
    },
    {
     "data": {
      "image/png": "iVBORw0KGgoAAAANSUhEUgAAAYUAAAEGCAYAAACKB4k+AAAABHNCSVQICAgIfAhkiAAAAAlwSFlzAAALEgAACxIB0t1+/AAAADh0RVh0U29mdHdhcmUAbWF0cGxvdGxpYiB2ZXJzaW9uMy4xLjMsIGh0dHA6Ly9tYXRwbG90bGliLm9yZy+AADFEAAAQbUlEQVR4nO3df+xddX3H8efLAjqnDpCvrFK6IkEi/irbN2hGVIZuq0xBjTKaiWziiokYjWSbukWZC8kyZc6hw9SBgFMERSYubJMxB5sTtZVai8AErFroaKEqbBqWlvf++J5+em2/hcuX3nu+9D4fyc33nM8593tfnNC+es4993NTVUiSBPC4vgNIkuYPS0GS1FgKkqTGUpAkNZaCJKnZp+8Aj8ZBBx1US5Ys6TuGJD2mrF69+p6qmppt22O6FJYsWcKqVav6jiFJjylJvre7bV4+kiQ1loIkqbEUJEmNpSBJaiwFSVJjKUiSmpGVQpILk2xKsm5g7LIka7rH+iRruvElSX46sO2jo8olSdq9UX5O4SLgw8Al2weq6re3Lyc5F/jxwP63V9XSEeaRJD2MkZVCVV2fZMls25IEOBk4flSvL0l65Pr6RPOLgLur6jsDY4cluRG4D/iTqvr32Z6YZAWwAmDx4sW7fYFf+YNLdrvtsWz1+9/QdwRJe7G+3mheDlw6sL4RWFxVRwPvAD6V5CmzPbGqVlbVdFVNT03NOnWHJGmOxl4KSfYBXgNctn2sqh6oqnu75dXA7cAzx51NkiZdH2cKLwNuqaoN2weSTCVZ0C0/AzgCuKOHbJI00UZ5S+qlwFeAI5NsSHJ6t+kUfvbSEcCLgbVJvgl8FnhzVW0ZVTZJ0uxGeffR8t2M/+4sY1cAV4wqiyRpOH6iWZLUWAqSpMZSkCQ1loIkqbEUJEmNpSBJaiwFSVJjKUiSGktBktRYCpKkxlKQJDWWgiSpsRQkSY2lIElqLAVJUmMpSJIaS0GS1FgKkqTGUpAkNZaCJKkZWSkkuTDJpiTrBsbOTnJnkjXd44SBbe9KcluSW5P85qhySZJ2b5RnChcBy2YZ/2BVLe0eVwMkOQo4BXh295y/SbJghNkkSbMYWSlU1fXAliF3Pwn4dFU9UFXfBW4DjhlVNknS7Pp4T+HMJGu7y0sHdGOHAD8Y2GdDN7aLJCuSrEqyavPmzaPOKkkTZdylcD5wOLAU2Aic241nln1rtl9QVSurarqqpqempkaTUpIm1FhLoarurqptVfUg8DF2XCLaABw6sOsi4K5xZpMkjbkUkiwcWH01sP3OpKuAU5I8PslhwBHA18aZTZIE+4zqFye5FDgOOCjJBuC9wHFJljJzaWg9cAZAVd2U5HLg28BW4C1VtW1U2SRJsxtZKVTV8lmGL3iI/c8BzhlVHknSw/MTzZKkxlKQJDWWgiSpsRQkSY2lIElqLAVJUmMpSJIaS0GS1FgKkqTGUpAkNZaCJKmxFCRJjaUgSWosBUlSYylIkhpLQZLUWAqSpMZSkCQ1loIkqbEUJEmNpSBJakZWCkkuTLIpybqBsfcnuSXJ2iRXJtm/G1+S5KdJ1nSPj44qlyRp90Z5pnARsGynsWuA51TV84D/At41sO32qlraPd48wlySpN0YWSlU1fXAlp3GvlhVW7vVG4BFo3p9SdIj1+d7Cm8E/nFg/bAkNya5LsmLdvekJCuSrEqyavPmzaNPKUkTpJdSSPLHwFbgk93QRmBxVR0NvAP4VJKnzPbcqlpZVdNVNT01NTWewJI0IcZeCklOA14B/E5VFUBVPVBV93bLq4HbgWeOO5skTbqxlkKSZcAfASdW1U8GxqeSLOiWnwEcAdwxzmySJNhnVL84yaXAccBBSTYA72XmbqPHA9ckAbihu9PoxcD7kmwFtgFvrqots/5iSdLIjKwUqmr5LMMX7GbfK4ArRpVFkjQcP9EsSWosBUlSYylIkhpLQZLUWAqSpMZSkCQ1loIkqbEUJEmNpSBJaiwFSVJjKUiSGktBktRYCpKkxlKQJDWWgiSpsRQkSY2lIElqLAVJUmMpSJIaS0GS1Iy0FJJcmGRTknUDYwcmuSbJd7qfB3TjSfLXSW5LsjbJL48ymyRpV6M+U7gIWLbT2DuBa6vqCODabh3g5cAR3WMFcP6Is0mSdjJUKSS5dpixnVXV9cCWnYZPAi7uli8GXjUwfknNuAHYP8nCYfJJkvaMfR5qY5InAE8EDuou86Tb9BTg6XN8zYOraiNAVW1M8rRu/BDgBwP7bejGNu6UaQUzZxIsXrx4jhEkSbN5yFIAzgDezkwBrGZHKdwHfGQPZ8ksY7XLQNVKYCXA9PT0LtslSXP3kKVQVR8CPpTkrVV13h56zbuTLOzOEhYCm7rxDcChA/stAu7aQ68pSRrCw50pAFBV5yX5VWDJ4HOq6pI5vOZVwGnAn3c/Pz8wfmaSTwMvAH68/TKTJGk8hiqFJJ8ADgfWANu64QIeshSSXAocx8x7EhuA9zJTBpcnOR34PvC6bvergROA24CfAL/3SP5DJEmP3lClAEwDR1XVI7qGX1XLd7PppbPsW8BbHsnvlyTtWcN+TmEd8IujDCJJ6t+wZwoHAd9O8jXgge2DVXXiSFJJknoxbCmcPcoQkqT5Ydi7j64bdRBJUv+GvfvofnZ8kGw/YF/gf6vqKaMKJkkav2HPFJ48uJ7kVcAxI0kkSerNnGZJraq/B47fw1kkST0b9vLRawZWH8fM5xacd0iS9jLD3n30yoHlrcB6Zqa6liTtRYZ9T8EpJyRpAgz7JTuLklzZfbXm3UmuSLJo1OEkSeM17BvNH2dmFtOnM/PFN1/oxiRJe5FhS2Gqqj5eVVu7x0XA1AhzSZJ6MGwp3JPk9UkWdI/XA/eOMpgkafyGLYU3AicD/83Mdya/Fr/vQJL2OsPekvpnwGlV9UOAJAcCH2CmLCRJe4lhzxSet70QAKpqC3D0aCJJkvoybCk8LskB21e6M4VhzzIkSY8Rw/7Ffi7wn0k+y8z0FicD54wslSSpF8N+ovmSJKuYmQQvwGuq6tsjTSZJGruhLwF1JWARSNJebOzvCyQ5ErhsYOgZwHuA/YHfBzZ34++uqqvHHE+SJtrYS6GqbgWWAiRZANwJXMnM5x4+WFUfGHcmSdKMOX3Jzh70UuD2qvpezzkkSfRfCqcAlw6sn5lkbZILB2+BHZRkRZJVSVZt3rx5tl0kSXPUWykk2Q84EfhMN3Q+cDgzl5Y2MnMb7C6qamVVTVfV9NSUc/JJ0p7U55nCy4FvVNXdAFV1d1Vtq6oHgY8Bx/SYTZImUp+lsJyBS0dJFg5sezWwbuyJJGnC9TJVRZInAr8OnDEw/BdJljLzien1O22TJI1BL6VQVT8BnrrT2Kl9ZJEk7dD33UeSpHnEUpAkNZaCJKmxFCRJjaUgSWosBUlS41dqToDvv++5fUcYicXv+VbfEaS9jmcKkqTGUpAkNZaCJKmxFCRJjaUgSWosBUlSYylIkhpLQZLUWAqSpMZSkCQ1loIkqbEUJEmNpSBJanqbJTXJeuB+YBuwtaqmkxwIXAYsAdYDJ1fVD/vKKEmTpu8zhV+rqqVVNd2tvxO4tqqOAK7t1iVJY9J3KezsJODibvli4FU9ZpGkidNnKRTwxSSrk6zoxg6uqo0A3c+n9ZZOkiZQn9+8dmxV3ZXkacA1SW4Z5kldgawAWLx48SjzSdLE6e1Moaru6n5uAq4EjgHuTrIQoPu5aZbnrayq6aqanpqaGmdkSdrr9VIKSX4+yZO3LwO/AawDrgJO63Y7Dfh8H/kkaVL1dfnoYODKJNszfKqq/inJ14HLk5wOfB94XU/5JGki9VIKVXUH8PxZxu8FXjr+RJIkmH+3pEqSemQpSJIaS0GS1FgKkqTGUpAkNZaCJKmxFCRJjaUgSWosBUlS0+csqdLYHXvesX1HGIkvv/XLfUfQXsIzBUlSYylIkhpLQZLUWAqSpMZSkCQ1loIkqbEUJEmNpSBJaiwFSVJjKUiSGktBktSMvRSSHJrkS0luTnJTkrd142cnuTPJmu5xwrizSdKk62NCvK3AWVX1jSRPBlYnuabb9sGq+kAPmSRJ9FAKVbUR2Ngt35/kZuCQceeQJO2q1/cUkiwBjga+2g2dmWRtkguTHLCb56xIsirJqs2bN48pqSRNht5KIcmTgCuAt1fVfcD5wOHAUmbOJM6d7XlVtbKqpqtqempqamx5JWkS9FIKSfZlphA+WVWfA6iqu6tqW1U9CHwMOKaPbJI0yfq4+yjABcDNVfWXA+MLB3Z7NbBu3NkkadL1cffRscCpwLeSrOnG3g0sT7IUKGA9cEYP2SRpovVx99F/AJll09XjziJJ+ll9nClImgeue/FL+o6wx73k+uv6jvCY5zQXkqTGUpAkNZaCJKmxFCRJjaUgSWosBUlSYylIkhpLQZLUWAqSpMZSkCQ1loIkqbEUJEmNpSBJaiwFSVJjKUiSGktBktRYCpKkxm9ekzTxPnzWF/qOsMedee4r5/Q8zxQkSY2lIElq5l0pJFmW5NYktyV5Z995JGmSzKtSSLIA+AjwcuAoYHmSo/pNJUmTY16VAnAMcFtV3VFV/wd8Gjip50ySNDFSVX1naJK8FlhWVW/q1k8FXlBVZw7sswJY0a0eCdw69qC7Ogi4p+8Q84THYgePxQ4eix3mw7H4paqamm3DfLslNbOM/UxrVdVKYOV44gwnyaqqmu47x3zgsdjBY7GDx2KH+X4s5tvlow3AoQPri4C7esoiSRNnvpXC14EjkhyWZD/gFOCqnjNJ0sSYV5ePqmprkjOBfwYWABdW1U09xxrGvLqc1TOPxQ4eix08FjvM62Mxr95oliT1a75dPpIk9chSkCQ1lsKj4JQcOyS5MMmmJOv6ztKnJIcm+VKSm5PclORtfWfqS5InJPlakm92x+JP+87UtyQLktyY5B/6zrI7lsIcOSXHLi4ClvUdYh7YCpxVVc8CXgi8ZYL/v3gAOL6qng8sBZYleWHPmfr2NuDmvkM8FEth7pySY0BVXQ9s6TtH36pqY1V9o1u+n5m/AA7pN1U/asb/dKv7do+JvbMlySLgt4C/7TvLQ7EU5u4Q4AcD6xuY0D/8ml2SJcDRwFf7TdKf7nLJGmATcE1VTeyxAP4K+EPgwb6DPBRLYe4edkoOTa4kTwKuAN5eVff1nacvVbWtqpYyMzvBMUme03emPiR5BbCpqlb3neXhWApz55QcmlWSfZkphE9W1ef6zjMfVNWPgH9jct93OhY4Mcl6Zi41H5/k7/qNNDtLYe6ckkO7SBLgAuDmqvrLvvP0KclUkv275Z8DXgbc0m+qflTVu6pqUVUtYebvin+tqtf3HGtWlsIcVdVWYPuUHDcDlz9GpuQYiSSXAl8BjkyyIcnpfWfqybHAqcz8S3BN9zih71A9WQh8KclaZv4RdU1VzdtbMTXDaS4kSY1nCpKkxlKQJDWWgiSpsRQkSY2lIElqLAVJUmMpSJIaS0HaA5K8Icna7rsDPpHklUm+2s2d/y9JDu47ozQMP7wmPUpJng18Dji2qu5JciAzkyP+qKoqyZuAZ1XVWb0GlYawT98BpL3A8cBnq+oegKrakuS5wGVJFgL7Ad/tM6A0LC8fSY9e2HXa9POAD1fVc4EzgCeMPZU0B5aC9OhdC5yc5KkA3eWjXwDu7Laf1lcw6ZHy8pH0KFXVTUnOAa5Lsg24ETgb+EySO4EbgMN6jCgNzTeaJUmNl48kSY2lIElqLAVJUmMpSJIaS0GS1FgKkqTGUpAkNf8Pcco7CHPQXkIAAAAASUVORK5CYII=\n",
      "text/plain": [
       "<Figure size 432x288 with 1 Axes>"
      ]
     },
     "metadata": {
      "needs_background": "light"
     },
     "output_type": "display_data"
    }
   ],
   "source": [
    "sns.countplot(dataset[\"ca\"])"
   ]
  },
  {
   "cell_type": "code",
   "execution_count": 30,
   "metadata": {},
   "outputs": [
    {
     "data": {
      "text/plain": [
       "<matplotlib.axes._subplots.AxesSubplot at 0x289d9a0df88>"
      ]
     },
     "execution_count": 30,
     "metadata": {},
     "output_type": "execute_result"
    },
    {
     "data": {
      "image/png": "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\n",
      "text/plain": [
       "<Figure size 432x288 with 1 Axes>"
      ]
     },
     "metadata": {
      "needs_background": "light"
     },
     "output_type": "display_data"
    }
   ],
   "source": [
    "sns.barplot(dataset[\"ca\"],y)"
   ]
  },
  {
   "cell_type": "markdown",
   "metadata": {},
   "source": [
    "#### ANALYSING THE \"THAL\" FEATURE"
   ]
  },
  {
   "cell_type": "code",
   "execution_count": 31,
   "metadata": {},
   "outputs": [
    {
     "data": {
      "text/plain": [
       "array([1, 2, 3, 0], dtype=int64)"
      ]
     },
     "execution_count": 31,
     "metadata": {},
     "output_type": "execute_result"
    }
   ],
   "source": [
    "dataset[\"thal\"].unique()"
   ]
  },
  {
   "cell_type": "code",
   "execution_count": 32,
   "metadata": {},
   "outputs": [
    {
     "data": {
      "text/plain": [
       "<matplotlib.axes._subplots.AxesSubplot at 0x289d8f79908>"
      ]
     },
     "execution_count": 32,
     "metadata": {},
     "output_type": "execute_result"
    },
    {
     "data": {
      "image/png": "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\n",
      "text/plain": [
       "<Figure size 432x288 with 1 Axes>"
      ]
     },
     "metadata": {
      "needs_background": "light"
     },
     "output_type": "display_data"
    }
   ],
   "source": [
    "sns.barplot(dataset[\"thal\"],y)"
   ]
  },
  {
   "cell_type": "code",
   "execution_count": 33,
   "metadata": {},
   "outputs": [
    {
     "data": {
      "text/plain": [
       "<matplotlib.axes._subplots.AxesSubplot at 0x289d9a93088>"
      ]
     },
     "execution_count": 33,
     "metadata": {},
     "output_type": "execute_result"
    },
    {
     "data": {
      "image/png": "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\n",
      "text/plain": [
       "<Figure size 432x288 with 1 Axes>"
      ]
     },
     "metadata": {
      "needs_background": "light"
     },
     "output_type": "display_data"
    }
   ],
   "source": [
    "sns.distplot(dataset[\"thal\"])"
   ]
  },
  {
   "cell_type": "markdown",
   "metadata": {},
   "source": [
    "#### TRAIN TEST SPLIT"
   ]
  },
  {
   "cell_type": "code",
   "execution_count": 34,
   "metadata": {},
   "outputs": [],
   "source": [
    "from sklearn.model_selection import train_test_split\n",
    "predictors = dataset.drop(\"target\",axis=1)\n",
    "target = dataset[\"target\"]\n",
    "X_train,X_test,Y_train,Y_test = train_test_split(predictors,target,test_size=0.20,random_state=0)"
   ]
  },
  {
   "cell_type": "code",
   "execution_count": 35,
   "metadata": {},
   "outputs": [
    {
     "data": {
      "text/plain": [
       "(242, 13)"
      ]
     },
     "execution_count": 35,
     "metadata": {},
     "output_type": "execute_result"
    }
   ],
   "source": [
    "X_train.shape"
   ]
  },
  {
   "cell_type": "code",
   "execution_count": 36,
   "metadata": {},
   "outputs": [
    {
     "data": {
      "text/plain": [
       "(61, 13)"
      ]
     },
     "execution_count": 36,
     "metadata": {},
     "output_type": "execute_result"
    }
   ],
   "source": [
    "X_test.shape"
   ]
  },
  {
   "cell_type": "code",
   "execution_count": 37,
   "metadata": {},
   "outputs": [
    {
     "data": {
      "text/plain": [
       "(242,)"
      ]
     },
     "execution_count": 37,
     "metadata": {},
     "output_type": "execute_result"
    }
   ],
   "source": [
    "Y_train.shape"
   ]
  },
  {
   "cell_type": "code",
   "execution_count": 38,
   "metadata": {},
   "outputs": [
    {
     "data": {
      "text/plain": [
       "(61,)"
      ]
     },
     "execution_count": 38,
     "metadata": {},
     "output_type": "execute_result"
    }
   ],
   "source": [
    "Y_test.shape"
   ]
  },
  {
   "cell_type": "markdown",
   "metadata": {},
   "source": [
    "#### METHODS"
   ]
  },
  {
   "cell_type": "code",
   "execution_count": 39,
   "metadata": {},
   "outputs": [],
   "source": [
    "from sklearn.metrics import accuracy_score"
   ]
  },
  {
   "cell_type": "markdown",
   "metadata": {},
   "source": [
    "### LOGISTIC REGRESSION"
   ]
  },
  {
   "cell_type": "code",
   "execution_count": 40,
   "metadata": {},
   "outputs": [],
   "source": [
    "from sklearn.linear_model import LogisticRegression\n",
    "lr = LogisticRegression()\n",
    "lr.fit(X_train,Y_train)\n",
    "Y_pred_lr = lr.predict(X_test)"
   ]
  },
  {
   "cell_type": "code",
   "execution_count": 41,
   "metadata": {},
   "outputs": [
    {
     "data": {
      "text/plain": [
       "(61,)"
      ]
     },
     "execution_count": 41,
     "metadata": {},
     "output_type": "execute_result"
    }
   ],
   "source": [
    "Y_pred_lr.shape"
   ]
  },
  {
   "cell_type": "code",
   "execution_count": 42,
   "metadata": {},
   "outputs": [
    {
     "name": "stdout",
     "output_type": "stream",
     "text": [
      "The accuracy score achieved using Logistic Regression is: 85.25 %\n"
     ]
    }
   ],
   "source": [
    "score_lr = round(accuracy_score(Y_pred_lr,Y_test)*100,2)\n",
    "print(\"The accuracy score achieved using Logistic Regression is: \"+str(score_lr)+\" %\")"
   ]
  },
  {
   "cell_type": "markdown",
   "metadata": {},
   "source": [
    "### NAIVE BAYES"
   ]
  },
  {
   "cell_type": "code",
   "execution_count": 43,
   "metadata": {},
   "outputs": [],
   "source": [
    "from sklearn.naive_bayes import GaussianNB\n",
    "nb = GaussianNB()\n",
    "nb.fit(X_train,Y_train)\n",
    "Y_pred_nb = nb.predict(X_test)"
   ]
  },
  {
   "cell_type": "code",
   "execution_count": 44,
   "metadata": {},
   "outputs": [
    {
     "data": {
      "text/plain": [
       "(61,)"
      ]
     },
     "execution_count": 44,
     "metadata": {},
     "output_type": "execute_result"
    }
   ],
   "source": [
    "Y_pred_nb.shape"
   ]
  },
  {
   "cell_type": "code",
   "execution_count": 45,
   "metadata": {},
   "outputs": [
    {
     "name": "stdout",
     "output_type": "stream",
     "text": [
      "The accuracy score achieved using Naive Bayes is: 85.25 %\n"
     ]
    }
   ],
   "source": [
    "score_nb = round(accuracy_score(Y_pred_nb,Y_test)*100,2)\n",
    "print(\"The accuracy score achieved using Naive Bayes is: \"+str(score_nb)+\" %\")"
   ]
  },
  {
   "cell_type": "markdown",
   "metadata": {},
   "source": [
    "### SVM"
   ]
  },
  {
   "cell_type": "code",
   "execution_count": 46,
   "metadata": {},
   "outputs": [],
   "source": [
    "from sklearn import svm\n",
    "sv = svm.SVC(kernel='linear')\n",
    "sv.fit(X_train, Y_train)\n",
    "Y_pred_svm = sv.predict(X_test)"
   ]
  },
  {
   "cell_type": "code",
   "execution_count": 47,
   "metadata": {},
   "outputs": [
    {
     "data": {
      "text/plain": [
       "(61,)"
      ]
     },
     "execution_count": 47,
     "metadata": {},
     "output_type": "execute_result"
    }
   ],
   "source": [
    "Y_pred_svm.shape"
   ]
  },
  {
   "cell_type": "code",
   "execution_count": 48,
   "metadata": {},
   "outputs": [
    {
     "name": "stdout",
     "output_type": "stream",
     "text": [
      "The accuracy score achieved using Linear SVM is: 81.97 %\n"
     ]
    }
   ],
   "source": [
    "score_svm = round(accuracy_score(Y_pred_svm,Y_test)*100,2)\n",
    "print(\"The accuracy score achieved using Linear SVM is: \"+str(score_svm)+\" %\")"
   ]
  },
  {
   "cell_type": "markdown",
   "metadata": {},
   "source": [
    "### K NEAREST NEIGHBOURS"
   ]
  },
  {
   "cell_type": "code",
   "execution_count": 49,
   "metadata": {},
   "outputs": [],
   "source": [
    "from sklearn.neighbors import KNeighborsClassifier\n",
    "knn = KNeighborsClassifier(n_neighbors=7)\n",
    "knn.fit(X_train,Y_train)\n",
    "Y_pred_knn=knn.predict(X_test)"
   ]
  },
  {
   "cell_type": "code",
   "execution_count": 50,
   "metadata": {},
   "outputs": [
    {
     "data": {
      "text/plain": [
       "(61,)"
      ]
     },
     "execution_count": 50,
     "metadata": {},
     "output_type": "execute_result"
    }
   ],
   "source": [
    "Y_pred_knn.shape"
   ]
  },
  {
   "cell_type": "code",
   "execution_count": 51,
   "metadata": {},
   "outputs": [
    {
     "name": "stdout",
     "output_type": "stream",
     "text": [
      "The accuracy score achieved using KNN is: 67.21 %\n"
     ]
    }
   ],
   "source": [
    "score_knn = round(accuracy_score(Y_pred_knn,Y_test)*100,2)\n",
    "print(\"The accuracy score achieved using KNN is: \"+str(score_knn)+\" %\")"
   ]
  },
  {
   "cell_type": "markdown",
   "metadata": {},
   "source": [
    "### DECISION TREE"
   ]
  },
  {
   "cell_type": "code",
   "execution_count": 52,
   "metadata": {},
   "outputs": [],
   "source": [
    "from sklearn.tree import DecisionTreeClassifier\n",
    "max_accuracy = 0\n",
    "for x in range(200):\n",
    "    dt = DecisionTreeClassifier(random_state=x)\n",
    "    dt.fit(X_train,Y_train)\n",
    "    Y_pred_dt = dt.predict(X_test)\n",
    "    current_accuracy = round(accuracy_score(Y_pred_dt,Y_test)*100,2)\n",
    "    if(current_accuracy>max_accuracy):\n",
    "        max_accuracy = current_accuracy\n",
    "        best_x = x\n",
    "dt = DecisionTreeClassifier(random_state=best_x)\n",
    "dt.fit(X_train,Y_train)\n",
    "Y_pred_dt = dt.predict(X_test)"
   ]
  },
  {
   "cell_type": "code",
   "execution_count": 53,
   "metadata": {},
   "outputs": [
    {
     "name": "stdout",
     "output_type": "stream",
     "text": [
      "(61,)\n"
     ]
    }
   ],
   "source": [
    "print(Y_pred_dt.shape)"
   ]
  },
  {
   "cell_type": "code",
   "execution_count": 54,
   "metadata": {},
   "outputs": [
    {
     "name": "stdout",
     "output_type": "stream",
     "text": [
      "The accuracy score achieved using Decision Tree is: 81.97 %\n"
     ]
    }
   ],
   "source": [
    "score_dt = round(accuracy_score(Y_pred_dt,Y_test)*100,2)\n",
    "print(\"The accuracy score achieved using Decision Tree is: \"+str(score_dt)+\" %\")"
   ]
  },
  {
   "cell_type": "markdown",
   "metadata": {},
   "source": [
    "### RANDOM FOREST"
   ]
  },
  {
   "cell_type": "code",
   "execution_count": 55,
   "metadata": {},
   "outputs": [],
   "source": [
    "from sklearn.ensemble import RandomForestClassifier\n",
    "max_accuracy = 0\n",
    "for x in range(2000):\n",
    "    rf = RandomForestClassifier(random_state=x)\n",
    "    rf.fit(X_train,Y_train)\n",
    "    Y_pred_rf = rf.predict(X_test)\n",
    "    current_accuracy = round(accuracy_score(Y_pred_rf,Y_test)*100,2)\n",
    "    if(current_accuracy>max_accuracy):\n",
    "        max_accuracy = current_accuracy\n",
    "        best_x = x\n",
    "rf = RandomForestClassifier(random_state=best_x)\n",
    "rf.fit(X_train,Y_train)\n",
    "Y_pred_rf = rf.predict(X_test)"
   ]
  },
  {
   "cell_type": "code",
   "execution_count": 56,
   "metadata": {},
   "outputs": [
    {
     "data": {
      "text/plain": [
       "(61,)"
      ]
     },
     "execution_count": 56,
     "metadata": {},
     "output_type": "execute_result"
    }
   ],
   "source": [
    "Y_pred_rf.shape"
   ]
  },
  {
   "cell_type": "code",
   "execution_count": 57,
   "metadata": {},
   "outputs": [
    {
     "name": "stdout",
     "output_type": "stream",
     "text": [
      "The accuracy score achieved using Decision Tree is: 90.16 %\n"
     ]
    }
   ],
   "source": [
    "score_rf = round(accuracy_score(Y_pred_rf,Y_test)*100,2)\n",
    "print(\"The accuracy score achieved using Decision Tree is: \"+str(score_rf)+\" %\")"
   ]
  },
  {
   "cell_type": "markdown",
   "metadata": {},
   "source": [
    "### XGBOOST"
   ]
  },
  {
   "cell_type": "code",
   "execution_count": 58,
   "metadata": {},
   "outputs": [],
   "source": [
    "import xgboost as xgb\n",
    "xgb_model = xgb.XGBClassifier(objective=\"binary:logistic\", random_state=42)\n",
    "xgb_model.fit(X_train, Y_train)\n",
    "Y_pred_xgb = xgb_model.predict(X_test)"
   ]
  },
  {
   "cell_type": "code",
   "execution_count": 59,
   "metadata": {},
   "outputs": [
    {
     "data": {
      "text/plain": [
       "(61,)"
      ]
     },
     "execution_count": 59,
     "metadata": {},
     "output_type": "execute_result"
    }
   ],
   "source": [
    "Y_pred_xgb.shape"
   ]
  },
  {
   "cell_type": "code",
   "execution_count": 60,
   "metadata": {},
   "outputs": [
    {
     "name": "stdout",
     "output_type": "stream",
     "text": [
      "The accuracy score achieved using XGBoost is: 78.69 %\n"
     ]
    }
   ],
   "source": [
    "score_xgb = round(accuracy_score(Y_pred_xgb,Y_test)*100,2)\n",
    "print(\"The accuracy score achieved using XGBoost is: \"+str(score_xgb)+\" %\")"
   ]
  },
  {
   "cell_type": "markdown",
   "metadata": {},
   "source": [
    "### NEURAL NETWORK"
   ]
  },
  {
   "cell_type": "code",
   "execution_count": 61,
   "metadata": {},
   "outputs": [],
   "source": [
    "from keras.models import Sequential\n",
    "from keras.layers import Dense"
   ]
  },
  {
   "cell_type": "code",
   "execution_count": 62,
   "metadata": {},
   "outputs": [],
   "source": [
    "model = Sequential()\n",
    "model.add(Dense(11,activation='relu',input_dim=13))\n",
    "model.add(Dense(1,activation='sigmoid'))\n",
    "model.compile(loss='binary_crossentropy',optimizer='adam',metrics=['accuracy'])"
   ]
  },
  {
   "cell_type": "code",
   "execution_count": 63,
   "metadata": {},
   "outputs": [
    {
     "name": "stdout",
     "output_type": "stream",
     "text": [
      "Epoch 1/300\n",
      "8/8 [==============================] - 0s 2ms/step - loss: 21.9502 - accuracy: 0.4587\n",
      "Epoch 2/300\n",
      "8/8 [==============================] - 0s 1ms/step - loss: 14.3111 - accuracy: 0.4587\n",
      "Epoch 3/300\n",
      "8/8 [==============================] - 0s 1ms/step - loss: 7.5301 - accuracy: 0.4256\n",
      "Epoch 4/300\n",
      "8/8 [==============================] - 0s 1ms/step - loss: 4.0797 - accuracy: 0.5207\n",
      "Epoch 5/300\n",
      "8/8 [==============================] - 0s 2ms/step - loss: 4.0406 - accuracy: 0.5702\n",
      "Epoch 6/300\n",
      "8/8 [==============================] - 0s 1ms/step - loss: 3.6185 - accuracy: 0.5661\n",
      "Epoch 7/300\n",
      "8/8 [==============================] - 0s 1ms/step - loss: 3.0855 - accuracy: 0.5041\n",
      "Epoch 8/300\n",
      "8/8 [==============================] - 0s 1ms/step - loss: 2.7395 - accuracy: 0.4587\n",
      "Epoch 9/300\n",
      "8/8 [==============================] - 0s 2ms/step - loss: 2.4363 - accuracy: 0.5207\n",
      "Epoch 10/300\n",
      "8/8 [==============================] - 0s 4ms/step - loss: 2.2983 - accuracy: 0.5372\n",
      "Epoch 11/300\n",
      "8/8 [==============================] - 0s 2ms/step - loss: 2.0911 - accuracy: 0.5455\n",
      "Epoch 12/300\n",
      "8/8 [==============================] - 0s 3ms/step - loss: 1.9389 - accuracy: 0.5165\n",
      "Epoch 13/300\n",
      "8/8 [==============================] - 0s 2ms/step - loss: 1.8028 - accuracy: 0.5207\n",
      "Epoch 14/300\n",
      "8/8 [==============================] - 0s 2ms/step - loss: 1.6698 - accuracy: 0.5331\n",
      "Epoch 15/300\n",
      "8/8 [==============================] - 0s 3ms/step - loss: 1.5583 - accuracy: 0.5372\n",
      "Epoch 16/300\n",
      "8/8 [==============================] - 0s 2ms/step - loss: 1.4632 - accuracy: 0.5083\n",
      "Epoch 17/300\n",
      "8/8 [==============================] - 0s 3ms/step - loss: 1.3872 - accuracy: 0.5207\n",
      "Epoch 18/300\n",
      "8/8 [==============================] - 0s 2ms/step - loss: 1.2904 - accuracy: 0.5124\n",
      "Epoch 19/300\n",
      "8/8 [==============================] - 0s 1ms/step - loss: 1.2338 - accuracy: 0.4959\n",
      "Epoch 20/300\n",
      "8/8 [==============================] - 0s 1ms/step - loss: 1.1732 - accuracy: 0.5248\n",
      "Epoch 21/300\n",
      "8/8 [==============================] - 0s 1ms/step - loss: 1.1246 - accuracy: 0.4959\n",
      "Epoch 22/300\n",
      "8/8 [==============================] - 0s 2ms/step - loss: 1.0783 - accuracy: 0.5165\n",
      "Epoch 23/300\n",
      "8/8 [==============================] - 0s 2ms/step - loss: 1.0221 - accuracy: 0.5496\n",
      "Epoch 24/300\n",
      "8/8 [==============================] - 0s 1ms/step - loss: 0.9666 - accuracy: 0.5455\n",
      "Epoch 25/300\n",
      "8/8 [==============================] - 0s 1ms/step - loss: 0.9287 - accuracy: 0.5579\n",
      "Epoch 26/300\n",
      "8/8 [==============================] - 0s 2ms/step - loss: 0.8845 - accuracy: 0.5537\n",
      "Epoch 27/300\n",
      "8/8 [==============================] - 0s 1ms/step - loss: 0.8441 - accuracy: 0.5868\n",
      "Epoch 28/300\n",
      "8/8 [==============================] - 0s 1ms/step - loss: 0.8071 - accuracy: 0.5992\n",
      "Epoch 29/300\n",
      "8/8 [==============================] - 0s 1ms/step - loss: 0.7760 - accuracy: 0.6240\n",
      "Epoch 30/300\n",
      "8/8 [==============================] - 0s 1ms/step - loss: 0.7456 - accuracy: 0.6240\n",
      "Epoch 31/300\n",
      "8/8 [==============================] - 0s 1ms/step - loss: 0.7178 - accuracy: 0.6322\n",
      "Epoch 32/300\n",
      "8/8 [==============================] - 0s 1ms/step - loss: 0.6922 - accuracy: 0.6570\n",
      "Epoch 33/300\n",
      "8/8 [==============================] - 0s 1ms/step - loss: 0.6770 - accuracy: 0.6529\n",
      "Epoch 34/300\n",
      "8/8 [==============================] - 0s 1ms/step - loss: 0.6551 - accuracy: 0.6653\n",
      "Epoch 35/300\n",
      "8/8 [==============================] - 0s 1ms/step - loss: 0.6431 - accuracy: 0.6860\n",
      "Epoch 36/300\n",
      "8/8 [==============================] - 0s 2ms/step - loss: 0.6226 - accuracy: 0.6818\n",
      "Epoch 37/300\n",
      "8/8 [==============================] - 0s 1ms/step - loss: 0.6084 - accuracy: 0.7231\n",
      "Epoch 38/300\n",
      "8/8 [==============================] - 0s 1ms/step - loss: 0.5993 - accuracy: 0.7025\n",
      "Epoch 39/300\n",
      "8/8 [==============================] - 0s 2ms/step - loss: 0.5848 - accuracy: 0.7355\n",
      "Epoch 40/300\n",
      "8/8 [==============================] - 0s 1ms/step - loss: 0.5743 - accuracy: 0.7190\n",
      "Epoch 41/300\n",
      "8/8 [==============================] - 0s 2ms/step - loss: 0.5601 - accuracy: 0.7273\n",
      "Epoch 42/300\n",
      "8/8 [==============================] - 0s 2ms/step - loss: 0.5587 - accuracy: 0.7397\n",
      "Epoch 43/300\n",
      "8/8 [==============================] - 0s 2ms/step - loss: 0.5517 - accuracy: 0.7190\n",
      "Epoch 44/300\n",
      "8/8 [==============================] - 0s 1ms/step - loss: 0.5376 - accuracy: 0.7397\n",
      "Epoch 45/300\n",
      "8/8 [==============================] - 0s 2ms/step - loss: 0.5317 - accuracy: 0.7603\n",
      "Epoch 46/300\n",
      "8/8 [==============================] - 0s 2ms/step - loss: 0.5247 - accuracy: 0.7562\n",
      "Epoch 47/300\n",
      "8/8 [==============================] - 0s 2ms/step - loss: 0.5168 - accuracy: 0.7479\n",
      "Epoch 48/300\n",
      "8/8 [==============================] - 0s 2ms/step - loss: 0.5115 - accuracy: 0.7603\n",
      "Epoch 49/300\n",
      "8/8 [==============================] - 0s 2ms/step - loss: 0.5169 - accuracy: 0.7438\n",
      "Epoch 50/300\n",
      "8/8 [==============================] - 0s 2ms/step - loss: 0.5131 - accuracy: 0.7727\n",
      "Epoch 51/300\n",
      "8/8 [==============================] - 0s 2ms/step - loss: 0.5010 - accuracy: 0.7686\n",
      "Epoch 52/300\n",
      "8/8 [==============================] - 0s 2ms/step - loss: 0.4984 - accuracy: 0.7603\n",
      "Epoch 53/300\n",
      "8/8 [==============================] - 0s 4ms/step - loss: 0.5064 - accuracy: 0.7686\n",
      "Epoch 54/300\n",
      "8/8 [==============================] - 0s 2ms/step - loss: 0.4864 - accuracy: 0.7562\n",
      "Epoch 55/300\n",
      "8/8 [==============================] - ETA: 0s - loss: 0.3309 - accuracy: 0.90 - 0s 2ms/step - loss: 0.4769 - accuracy: 0.7851\n",
      "Epoch 56/300\n",
      "8/8 [==============================] - 0s 2ms/step - loss: 0.4743 - accuracy: 0.7727\n",
      "Epoch 57/300\n",
      "8/8 [==============================] - 0s 2ms/step - loss: 0.4724 - accuracy: 0.7769\n",
      "Epoch 58/300\n",
      "8/8 [==============================] - 0s 2ms/step - loss: 0.4681 - accuracy: 0.7810\n",
      "Epoch 59/300\n",
      "8/8 [==============================] - 0s 1ms/step - loss: 0.4648 - accuracy: 0.7769\n",
      "Epoch 60/300\n",
      "8/8 [==============================] - 0s 1ms/step - loss: 0.4740 - accuracy: 0.7562\n",
      "Epoch 61/300\n",
      "8/8 [==============================] - 0s 2ms/step - loss: 0.4655 - accuracy: 0.7810\n",
      "Epoch 62/300\n",
      "8/8 [==============================] - 0s 2ms/step - loss: 0.4692 - accuracy: 0.7727\n",
      "Epoch 63/300\n",
      "8/8 [==============================] - 0s 1ms/step - loss: 0.4570 - accuracy: 0.7645\n",
      "Epoch 64/300\n",
      "8/8 [==============================] - 0s 1ms/step - loss: 0.4742 - accuracy: 0.7810\n",
      "Epoch 65/300\n",
      "8/8 [==============================] - 0s 1ms/step - loss: 0.4541 - accuracy: 0.7851\n",
      "Epoch 66/300\n",
      "8/8 [==============================] - 0s 1ms/step - loss: 0.4461 - accuracy: 0.7975\n",
      "Epoch 67/300\n",
      "8/8 [==============================] - 0s 2ms/step - loss: 0.4454 - accuracy: 0.7893\n",
      "Epoch 68/300\n",
      "8/8 [==============================] - 0s 670us/step - loss: 0.4402 - accuracy: 0.7934\n",
      "Epoch 69/300\n",
      "8/8 [==============================] - 0s 3ms/step - loss: 0.4374 - accuracy: 0.7893\n",
      "Epoch 70/300\n",
      "8/8 [==============================] - 0s 1ms/step - loss: 0.4414 - accuracy: 0.7851\n",
      "Epoch 71/300\n",
      "8/8 [==============================] - 0s 1ms/step - loss: 0.4416 - accuracy: 0.7975\n",
      "Epoch 72/300\n",
      "8/8 [==============================] - 0s 1ms/step - loss: 0.4370 - accuracy: 0.7893\n",
      "Epoch 73/300\n",
      "8/8 [==============================] - 0s 2ms/step - loss: 0.4307 - accuracy: 0.7851\n",
      "Epoch 74/300\n",
      "8/8 [==============================] - 0s 2ms/step - loss: 0.4351 - accuracy: 0.7934\n",
      "Epoch 75/300\n",
      "8/8 [==============================] - 0s 2ms/step - loss: 0.4259 - accuracy: 0.7975\n",
      "Epoch 76/300\n",
      "8/8 [==============================] - 0s 1ms/step - loss: 0.4271 - accuracy: 0.7975\n",
      "Epoch 77/300\n",
      "8/8 [==============================] - 0s 1ms/step - loss: 0.4364 - accuracy: 0.7975\n",
      "Epoch 78/300\n",
      "8/8 [==============================] - 0s 2ms/step - loss: 0.4401 - accuracy: 0.7810\n",
      "Epoch 79/300\n",
      "8/8 [==============================] - 0s 2ms/step - loss: 0.4412 - accuracy: 0.7934\n",
      "Epoch 80/300\n",
      "8/8 [==============================] - 0s 2ms/step - loss: 0.4396 - accuracy: 0.7934\n",
      "Epoch 81/300\n",
      "8/8 [==============================] - 0s 1ms/step - loss: 0.4371 - accuracy: 0.7934\n",
      "Epoch 82/300\n",
      "8/8 [==============================] - 0s 2ms/step - loss: 0.4158 - accuracy: 0.8140\n",
      "Epoch 83/300\n",
      "8/8 [==============================] - 0s 1ms/step - loss: 0.4485 - accuracy: 0.7893\n",
      "Epoch 84/300\n"
     ]
    },
    {
     "name": "stdout",
     "output_type": "stream",
     "text": [
      "8/8 [==============================] - 0s 2ms/step - loss: 0.4378 - accuracy: 0.8140\n",
      "Epoch 85/300\n",
      "8/8 [==============================] - 0s 2ms/step - loss: 0.4160 - accuracy: 0.8058\n",
      "Epoch 86/300\n",
      "8/8 [==============================] - 0s 2ms/step - loss: 0.4272 - accuracy: 0.8099\n",
      "Epoch 87/300\n",
      "8/8 [==============================] - 0s 2ms/step - loss: 0.4497 - accuracy: 0.7851\n",
      "Epoch 88/300\n",
      "8/8 [==============================] - 0s 3ms/step - loss: 0.4322 - accuracy: 0.7769\n",
      "Epoch 89/300\n",
      "8/8 [==============================] - 0s 2ms/step - loss: 0.4187 - accuracy: 0.8182\n",
      "Epoch 90/300\n",
      "8/8 [==============================] - 0s 2ms/step - loss: 0.4068 - accuracy: 0.8306\n",
      "Epoch 91/300\n",
      "8/8 [==============================] - 0s 2ms/step - loss: 0.4088 - accuracy: 0.7975\n",
      "Epoch 92/300\n",
      "8/8 [==============================] - 0s 2ms/step - loss: 0.4034 - accuracy: 0.8388\n",
      "Epoch 93/300\n",
      "8/8 [==============================] - 0s 2ms/step - loss: 0.4203 - accuracy: 0.8017\n",
      "Epoch 94/300\n",
      "8/8 [==============================] - 0s 2ms/step - loss: 0.4042 - accuracy: 0.8264\n",
      "Epoch 95/300\n",
      "8/8 [==============================] - 0s 2ms/step - loss: 0.4015 - accuracy: 0.8140\n",
      "Epoch 96/300\n",
      "8/8 [==============================] - 0s 2ms/step - loss: 0.4091 - accuracy: 0.8099\n",
      "Epoch 97/300\n",
      "8/8 [==============================] - 0s 2ms/step - loss: 0.4022 - accuracy: 0.8182\n",
      "Epoch 98/300\n",
      "8/8 [==============================] - 0s 2ms/step - loss: 0.4070 - accuracy: 0.8140\n",
      "Epoch 99/300\n",
      "8/8 [==============================] - 0s 3ms/step - loss: 0.4129 - accuracy: 0.7975\n",
      "Epoch 100/300\n",
      "8/8 [==============================] - 0s 2ms/step - loss: 0.4143 - accuracy: 0.8099\n",
      "Epoch 101/300\n",
      "8/8 [==============================] - 0s 2ms/step - loss: 0.4182 - accuracy: 0.8140\n",
      "Epoch 102/300\n",
      "8/8 [==============================] - 0s 2ms/step - loss: 0.4073 - accuracy: 0.8099\n",
      "Epoch 103/300\n",
      "8/8 [==============================] - 0s 2ms/step - loss: 0.4132 - accuracy: 0.8017\n",
      "Epoch 104/300\n",
      "8/8 [==============================] - 0s 2ms/step - loss: 0.3992 - accuracy: 0.8306\n",
      "Epoch 105/300\n",
      "8/8 [==============================] - 0s 2ms/step - loss: 0.4211 - accuracy: 0.7851\n",
      "Epoch 106/300\n",
      "8/8 [==============================] - 0s 2ms/step - loss: 0.4681 - accuracy: 0.7727\n",
      "Epoch 107/300\n",
      "8/8 [==============================] - 0s 2ms/step - loss: 0.4440 - accuracy: 0.7975\n",
      "Epoch 108/300\n",
      "8/8 [==============================] - 0s 2ms/step - loss: 0.4256 - accuracy: 0.8017\n",
      "Epoch 109/300\n",
      "8/8 [==============================] - 0s 2ms/step - loss: 0.4144 - accuracy: 0.7934\n",
      "Epoch 110/300\n",
      "8/8 [==============================] - 0s 2ms/step - loss: 0.4109 - accuracy: 0.8140\n",
      "Epoch 111/300\n",
      "8/8 [==============================] - 0s 1ms/step - loss: 0.3901 - accuracy: 0.8471\n",
      "Epoch 112/300\n",
      "8/8 [==============================] - 0s 2ms/step - loss: 0.3880 - accuracy: 0.8471\n",
      "Epoch 113/300\n",
      "8/8 [==============================] - 0s 1ms/step - loss: 0.3852 - accuracy: 0.8430\n",
      "Epoch 114/300\n",
      "8/8 [==============================] - 0s 1ms/step - loss: 0.3892 - accuracy: 0.8430\n",
      "Epoch 115/300\n",
      "8/8 [==============================] - 0s 2ms/step - loss: 0.3902 - accuracy: 0.8388\n",
      "Epoch 116/300\n",
      "8/8 [==============================] - 0s 2ms/step - loss: 0.3929 - accuracy: 0.8306\n",
      "Epoch 117/300\n",
      "8/8 [==============================] - 0s 2ms/step - loss: 0.3903 - accuracy: 0.8306\n",
      "Epoch 118/300\n",
      "8/8 [==============================] - 0s 2ms/step - loss: 0.3988 - accuracy: 0.8388\n",
      "Epoch 119/300\n",
      "8/8 [==============================] - 0s 2ms/step - loss: 0.3957 - accuracy: 0.8058\n",
      "Epoch 120/300\n",
      "8/8 [==============================] - 0s 1ms/step - loss: 0.3891 - accuracy: 0.8264\n",
      "Epoch 121/300\n",
      "8/8 [==============================] - 0s 2ms/step - loss: 0.3860 - accuracy: 0.8388\n",
      "Epoch 122/300\n",
      "8/8 [==============================] - 0s 2ms/step - loss: 0.3847 - accuracy: 0.8595\n",
      "Epoch 123/300\n",
      "8/8 [==============================] - 0s 2ms/step - loss: 0.3929 - accuracy: 0.8306\n",
      "Epoch 124/300\n",
      "8/8 [==============================] - 0s 2ms/step - loss: 0.3851 - accuracy: 0.8223\n",
      "Epoch 125/300\n",
      "8/8 [==============================] - 0s 2ms/step - loss: 0.3825 - accuracy: 0.8306\n",
      "Epoch 126/300\n",
      "8/8 [==============================] - 0s 2ms/step - loss: 0.3807 - accuracy: 0.8554\n",
      "Epoch 127/300\n",
      "8/8 [==============================] - 0s 2ms/step - loss: 0.3883 - accuracy: 0.8264\n",
      "Epoch 128/300\n",
      "8/8 [==============================] - 0s 2ms/step - loss: 0.3866 - accuracy: 0.8430\n",
      "Epoch 129/300\n",
      "8/8 [==============================] - 0s 2ms/step - loss: 0.3893 - accuracy: 0.8223\n",
      "Epoch 130/300\n",
      "8/8 [==============================] - 0s 4ms/step - loss: 0.3898 - accuracy: 0.8182\n",
      "Epoch 131/300\n",
      "8/8 [==============================] - 0s 2ms/step - loss: 0.4055 - accuracy: 0.8099\n",
      "Epoch 132/300\n",
      "8/8 [==============================] - 0s 4ms/step - loss: 0.4084 - accuracy: 0.8223\n",
      "Epoch 133/300\n",
      "8/8 [==============================] - 0s 3ms/step - loss: 0.4106 - accuracy: 0.8223\n",
      "Epoch 134/300\n",
      "8/8 [==============================] - 0s 2ms/step - loss: 0.4200 - accuracy: 0.7975\n",
      "Epoch 135/300\n",
      "8/8 [==============================] - 0s 2ms/step - loss: 0.4184 - accuracy: 0.8182\n",
      "Epoch 136/300\n",
      "8/8 [==============================] - 0s 2ms/step - loss: 0.3956 - accuracy: 0.8388\n",
      "Epoch 137/300\n",
      "8/8 [==============================] - 0s 2ms/step - loss: 0.3777 - accuracy: 0.8430\n",
      "Epoch 138/300\n",
      "8/8 [==============================] - 0s 2ms/step - loss: 0.3806 - accuracy: 0.8471\n",
      "Epoch 139/300\n",
      "8/8 [==============================] - 0s 2ms/step - loss: 0.3796 - accuracy: 0.8595\n",
      "Epoch 140/300\n",
      "8/8 [==============================] - 0s 2ms/step - loss: 0.3792 - accuracy: 0.8678\n",
      "Epoch 141/300\n",
      "8/8 [==============================] - 0s 2ms/step - loss: 0.4090 - accuracy: 0.8182\n",
      "Epoch 142/300\n",
      "8/8 [==============================] - 0s 2ms/step - loss: 0.3896 - accuracy: 0.8264\n",
      "Epoch 143/300\n",
      "8/8 [==============================] - 0s 2ms/step - loss: 0.3786 - accuracy: 0.8388\n",
      "Epoch 144/300\n",
      "8/8 [==============================] - 0s 2ms/step - loss: 0.3822 - accuracy: 0.8388\n",
      "Epoch 145/300\n",
      "8/8 [==============================] - 0s 2ms/step - loss: 0.3806 - accuracy: 0.8471\n",
      "Epoch 146/300\n",
      "8/8 [==============================] - 0s 1ms/step - loss: 0.3770 - accuracy: 0.8512\n",
      "Epoch 147/300\n",
      "8/8 [==============================] - 0s 1ms/step - loss: 0.3772 - accuracy: 0.8306\n",
      "Epoch 148/300\n",
      "8/8 [==============================] - 0s 1ms/step - loss: 0.3822 - accuracy: 0.8471\n",
      "Epoch 149/300\n",
      "8/8 [==============================] - 0s 1ms/step - loss: 0.3801 - accuracy: 0.8264\n",
      "Epoch 150/300\n",
      "8/8 [==============================] - 0s 1ms/step - loss: 0.3954 - accuracy: 0.8306\n",
      "Epoch 151/300\n",
      "8/8 [==============================] - 0s 2ms/step - loss: 0.3773 - accuracy: 0.8512\n",
      "Epoch 152/300\n",
      "8/8 [==============================] - 0s 2ms/step - loss: 0.3759 - accuracy: 0.8512\n",
      "Epoch 153/300\n",
      "8/8 [==============================] - 0s 2ms/step - loss: 0.3731 - accuracy: 0.8678\n",
      "Epoch 154/300\n",
      "8/8 [==============================] - 0s 2ms/step - loss: 0.3736 - accuracy: 0.8388\n",
      "Epoch 155/300\n",
      "8/8 [==============================] - 0s 2ms/step - loss: 0.3723 - accuracy: 0.8595\n",
      "Epoch 156/300\n",
      "8/8 [==============================] - 0s 2ms/step - loss: 0.3821 - accuracy: 0.8471\n",
      "Epoch 157/300\n",
      "8/8 [==============================] - 0s 1ms/step - loss: 0.3828 - accuracy: 0.8430\n",
      "Epoch 158/300\n",
      "8/8 [==============================] - 0s 2ms/step - loss: 0.3718 - accuracy: 0.8554\n",
      "Epoch 159/300\n",
      "8/8 [==============================] - 0s 2ms/step - loss: 0.3737 - accuracy: 0.8512\n",
      "Epoch 160/300\n",
      "8/8 [==============================] - 0s 2ms/step - loss: 0.3755 - accuracy: 0.8595\n",
      "Epoch 161/300\n",
      "8/8 [==============================] - 0s 2ms/step - loss: 0.3746 - accuracy: 0.8223\n",
      "Epoch 162/300\n",
      "8/8 [==============================] - 0s 2ms/step - loss: 0.3877 - accuracy: 0.8512\n",
      "Epoch 163/300\n",
      "8/8 [==============================] - 0s 2ms/step - loss: 0.3903 - accuracy: 0.8430\n",
      "Epoch 164/300\n",
      "8/8 [==============================] - 0s 2ms/step - loss: 0.3773 - accuracy: 0.8471\n",
      "Epoch 165/300\n",
      "8/8 [==============================] - 0s 2ms/step - loss: 0.3835 - accuracy: 0.8223\n",
      "Epoch 166/300\n",
      "8/8 [==============================] - 0s 2ms/step - loss: 0.3759 - accuracy: 0.8471\n",
      "Epoch 167/300\n"
     ]
    },
    {
     "name": "stdout",
     "output_type": "stream",
     "text": [
      "8/8 [==============================] - 0s 2ms/step - loss: 0.3725 - accuracy: 0.8512\n",
      "Epoch 168/300\n",
      "8/8 [==============================] - 0s 2ms/step - loss: 0.3692 - accuracy: 0.8554\n",
      "Epoch 169/300\n",
      "8/8 [==============================] - 0s 2ms/step - loss: 0.3702 - accuracy: 0.8512\n",
      "Epoch 170/300\n",
      "8/8 [==============================] - 0s 2ms/step - loss: 0.3699 - accuracy: 0.8430\n",
      "Epoch 171/300\n",
      "8/8 [==============================] - 0s 2ms/step - loss: 0.3799 - accuracy: 0.8512\n",
      "Epoch 172/300\n",
      "8/8 [==============================] - 0s 2ms/step - loss: 0.3749 - accuracy: 0.8388\n",
      "Epoch 173/300\n",
      "8/8 [==============================] - 0s 2ms/step - loss: 0.3728 - accuracy: 0.8554\n",
      "Epoch 174/300\n",
      "8/8 [==============================] - 0s 2ms/step - loss: 0.3670 - accuracy: 0.8512\n",
      "Epoch 175/300\n",
      "8/8 [==============================] - 0s 2ms/step - loss: 0.3676 - accuracy: 0.8471\n",
      "Epoch 176/300\n",
      "8/8 [==============================] - 0s 2ms/step - loss: 0.3741 - accuracy: 0.8471\n",
      "Epoch 177/300\n",
      "8/8 [==============================] - 0s 2ms/step - loss: 0.3937 - accuracy: 0.8099\n",
      "Epoch 178/300\n",
      "8/8 [==============================] - 0s 2ms/step - loss: 0.3921 - accuracy: 0.8099\n",
      "Epoch 179/300\n",
      "8/8 [==============================] - 0s 2ms/step - loss: 0.3646 - accuracy: 0.8554\n",
      "Epoch 180/300\n",
      "8/8 [==============================] - 0s 2ms/step - loss: 0.3651 - accuracy: 0.8306\n",
      "Epoch 181/300\n",
      "8/8 [==============================] - 0s 2ms/step - loss: 0.3735 - accuracy: 0.8347\n",
      "Epoch 182/300\n",
      "8/8 [==============================] - 0s 2ms/step - loss: 0.3678 - accuracy: 0.8347\n",
      "Epoch 183/300\n",
      "8/8 [==============================] - 0s 2ms/step - loss: 0.3652 - accuracy: 0.8512\n",
      "Epoch 184/300\n",
      "8/8 [==============================] - 0s 2ms/step - loss: 0.3667 - accuracy: 0.8554\n",
      "Epoch 185/300\n",
      "8/8 [==============================] - 0s 2ms/step - loss: 0.3691 - accuracy: 0.8430\n",
      "Epoch 186/300\n",
      "8/8 [==============================] - 0s 1ms/step - loss: 0.3836 - accuracy: 0.8471\n",
      "Epoch 187/300\n",
      "8/8 [==============================] - 0s 1ms/step - loss: 0.3896 - accuracy: 0.8264\n",
      "Epoch 188/300\n",
      "8/8 [==============================] - 0s 1ms/step - loss: 0.3646 - accuracy: 0.8430\n",
      "Epoch 189/300\n",
      "8/8 [==============================] - 0s 1ms/step - loss: 0.3611 - accuracy: 0.8471\n",
      "Epoch 190/300\n",
      "8/8 [==============================] - 0s 2ms/step - loss: 0.3769 - accuracy: 0.8264\n",
      "Epoch 191/300\n",
      "8/8 [==============================] - 0s 1ms/step - loss: 0.3702 - accuracy: 0.8306\n",
      "Epoch 192/300\n",
      "8/8 [==============================] - 0s 2ms/step - loss: 0.3685 - accuracy: 0.8471\n",
      "Epoch 193/300\n",
      "8/8 [==============================] - 0s 2ms/step - loss: 0.3735 - accuracy: 0.8182\n",
      "Epoch 194/300\n",
      "8/8 [==============================] - 0s 1ms/step - loss: 0.3704 - accuracy: 0.8430\n",
      "Epoch 195/300\n",
      "8/8 [==============================] - 0s 1ms/step - loss: 0.4003 - accuracy: 0.7893\n",
      "Epoch 196/300\n",
      "8/8 [==============================] - 0s 1ms/step - loss: 0.4263 - accuracy: 0.8058\n",
      "Epoch 197/300\n",
      "8/8 [==============================] - 0s 2ms/step - loss: 0.3803 - accuracy: 0.8264\n",
      "Epoch 198/300\n",
      "8/8 [==============================] - 0s 2ms/step - loss: 0.4127 - accuracy: 0.7975\n",
      "Epoch 199/300\n",
      "8/8 [==============================] - 0s 2ms/step - loss: 0.3952 - accuracy: 0.8099\n",
      "Epoch 200/300\n",
      "8/8 [==============================] - 0s 2ms/step - loss: 0.3816 - accuracy: 0.8140\n",
      "Epoch 201/300\n",
      "8/8 [==============================] - 0s 1ms/step - loss: 0.3660 - accuracy: 0.8430\n",
      "Epoch 202/300\n",
      "8/8 [==============================] - 0s 1ms/step - loss: 0.3788 - accuracy: 0.8471\n",
      "Epoch 203/300\n",
      "8/8 [==============================] - 0s 2ms/step - loss: 0.3704 - accuracy: 0.8471\n",
      "Epoch 204/300\n",
      "8/8 [==============================] - 0s 2ms/step - loss: 0.3718 - accuracy: 0.8430\n",
      "Epoch 205/300\n",
      "8/8 [==============================] - 0s 2ms/step - loss: 0.3691 - accuracy: 0.8388\n",
      "Epoch 206/300\n",
      "8/8 [==============================] - 0s 2ms/step - loss: 0.3831 - accuracy: 0.8430\n",
      "Epoch 207/300\n",
      "8/8 [==============================] - 0s 2ms/step - loss: 0.3787 - accuracy: 0.8430\n",
      "Epoch 208/300\n",
      "8/8 [==============================] - 0s 2ms/step - loss: 0.3777 - accuracy: 0.8264\n",
      "Epoch 209/300\n",
      "8/8 [==============================] - 0s 2ms/step - loss: 0.3669 - accuracy: 0.8347\n",
      "Epoch 210/300\n",
      "8/8 [==============================] - 0s 2ms/step - loss: 0.3578 - accuracy: 0.8554\n",
      "Epoch 211/300\n",
      "8/8 [==============================] - 0s 2ms/step - loss: 0.3631 - accuracy: 0.8512\n",
      "Epoch 212/300\n",
      "8/8 [==============================] - 0s 3ms/step - loss: 0.3675 - accuracy: 0.8512\n",
      "Epoch 213/300\n",
      "8/8 [==============================] - 0s 2ms/step - loss: 0.3669 - accuracy: 0.8347\n",
      "Epoch 214/300\n",
      "8/8 [==============================] - 0s 2ms/step - loss: 0.3767 - accuracy: 0.8430\n",
      "Epoch 215/300\n",
      "8/8 [==============================] - 0s 3ms/step - loss: 0.3854 - accuracy: 0.8140\n",
      "Epoch 216/300\n",
      "8/8 [==============================] - 0s 2ms/step - loss: 0.3976 - accuracy: 0.8058\n",
      "Epoch 217/300\n",
      "8/8 [==============================] - 0s 2ms/step - loss: 0.3827 - accuracy: 0.8306\n",
      "Epoch 218/300\n",
      "8/8 [==============================] - 0s 2ms/step - loss: 0.3536 - accuracy: 0.8512\n",
      "Epoch 219/300\n",
      "8/8 [==============================] - 0s 2ms/step - loss: 0.3568 - accuracy: 0.8595\n",
      "Epoch 220/300\n",
      "8/8 [==============================] - 0s 2ms/step - loss: 0.3673 - accuracy: 0.8471\n",
      "Epoch 221/300\n",
      "8/8 [==============================] - 0s 2ms/step - loss: 0.3601 - accuracy: 0.8430\n",
      "Epoch 222/300\n",
      "8/8 [==============================] - 0s 2ms/step - loss: 0.3644 - accuracy: 0.8388\n",
      "Epoch 223/300\n",
      "8/8 [==============================] - 0s 2ms/step - loss: 0.3811 - accuracy: 0.8264\n",
      "Epoch 224/300\n",
      "8/8 [==============================] - 0s 2ms/step - loss: 0.3649 - accuracy: 0.8471\n",
      "Epoch 225/300\n",
      "8/8 [==============================] - 0s 2ms/step - loss: 0.3681 - accuracy: 0.8471\n",
      "Epoch 226/300\n",
      "8/8 [==============================] - 0s 2ms/step - loss: 0.3630 - accuracy: 0.8554\n",
      "Epoch 227/300\n",
      "8/8 [==============================] - 0s 2ms/step - loss: 0.3603 - accuracy: 0.8471\n",
      "Epoch 228/300\n",
      "8/8 [==============================] - 0s 2ms/step - loss: 0.3588 - accuracy: 0.8471\n",
      "Epoch 229/300\n",
      "8/8 [==============================] - 0s 1ms/step - loss: 0.3614 - accuracy: 0.8512\n",
      "Epoch 230/300\n",
      "8/8 [==============================] - 0s 1ms/step - loss: 0.3584 - accuracy: 0.8430\n",
      "Epoch 231/300\n",
      "8/8 [==============================] - 0s 2ms/step - loss: 0.3628 - accuracy: 0.8471\n",
      "Epoch 232/300\n",
      "8/8 [==============================] - 0s 1ms/step - loss: 0.3661 - accuracy: 0.8347\n",
      "Epoch 233/300\n",
      "8/8 [==============================] - 0s 1ms/step - loss: 0.3614 - accuracy: 0.8430\n",
      "Epoch 234/300\n",
      "8/8 [==============================] - 0s 2ms/step - loss: 0.3666 - accuracy: 0.8512\n",
      "Epoch 235/300\n",
      "8/8 [==============================] - 0s 1ms/step - loss: 0.3662 - accuracy: 0.8264\n",
      "Epoch 236/300\n",
      "8/8 [==============================] - 0s 2ms/step - loss: 0.3760 - accuracy: 0.8430\n",
      "Epoch 237/300\n",
      "8/8 [==============================] - 0s 1ms/step - loss: 0.3741 - accuracy: 0.8347\n",
      "Epoch 238/300\n",
      "8/8 [==============================] - 0s 1ms/step - loss: 0.3846 - accuracy: 0.8388\n",
      "Epoch 239/300\n",
      "8/8 [==============================] - 0s 1ms/step - loss: 0.3854 - accuracy: 0.8388\n",
      "Epoch 240/300\n",
      "8/8 [==============================] - 0s 1ms/step - loss: 0.3912 - accuracy: 0.8223\n",
      "Epoch 241/300\n",
      "8/8 [==============================] - 0s 1ms/step - loss: 0.3627 - accuracy: 0.8471\n",
      "Epoch 242/300\n",
      "8/8 [==============================] - 0s 1ms/step - loss: 0.3797 - accuracy: 0.8430\n",
      "Epoch 243/300\n",
      "8/8 [==============================] - 0s 1ms/step - loss: 0.3628 - accuracy: 0.8471\n",
      "Epoch 244/300\n",
      "8/8 [==============================] - 0s 2ms/step - loss: 0.3558 - accuracy: 0.8554\n",
      "Epoch 245/300\n",
      "8/8 [==============================] - 0s 2ms/step - loss: 0.3667 - accuracy: 0.8512\n",
      "Epoch 246/300\n",
      "8/8 [==============================] - 0s 2ms/step - loss: 0.3592 - accuracy: 0.8554\n",
      "Epoch 247/300\n",
      "8/8 [==============================] - 0s 2ms/step - loss: 0.3624 - accuracy: 0.8388\n",
      "Epoch 248/300\n",
      "8/8 [==============================] - 0s 2ms/step - loss: 0.3889 - accuracy: 0.8388\n",
      "Epoch 249/300\n"
     ]
    },
    {
     "name": "stdout",
     "output_type": "stream",
     "text": [
      "8/8 [==============================] - 0s 2ms/step - loss: 0.4010 - accuracy: 0.8223\n",
      "Epoch 250/300\n",
      "8/8 [==============================] - 0s 3ms/step - loss: 0.4020 - accuracy: 0.8388\n",
      "Epoch 251/300\n",
      "8/8 [==============================] - 0s 4ms/step - loss: 0.4032 - accuracy: 0.8058\n",
      "Epoch 252/300\n",
      "8/8 [==============================] - 0s 2ms/step - loss: 0.3997 - accuracy: 0.8306\n",
      "Epoch 253/300\n",
      "8/8 [==============================] - 0s 4ms/step - loss: 0.3565 - accuracy: 0.8512\n",
      "Epoch 254/300\n",
      "8/8 [==============================] - 0s 2ms/step - loss: 0.3562 - accuracy: 0.8595\n",
      "Epoch 255/300\n",
      "8/8 [==============================] - 0s 4ms/step - loss: 0.3585 - accuracy: 0.8636\n",
      "Epoch 256/300\n",
      "8/8 [==============================] - 0s 2ms/step - loss: 0.3558 - accuracy: 0.8554\n",
      "Epoch 257/300\n",
      "8/8 [==============================] - 0s 2ms/step - loss: 0.3706 - accuracy: 0.8512\n",
      "Epoch 258/300\n",
      "8/8 [==============================] - 0s 2ms/step - loss: 0.3692 - accuracy: 0.8264\n",
      "Epoch 259/300\n",
      "8/8 [==============================] - 0s 2ms/step - loss: 0.3724 - accuracy: 0.8306\n",
      "Epoch 260/300\n",
      "8/8 [==============================] - 0s 2ms/step - loss: 0.3550 - accuracy: 0.8471\n",
      "Epoch 261/300\n",
      "8/8 [==============================] - 0s 2ms/step - loss: 0.3611 - accuracy: 0.8512\n",
      "Epoch 262/300\n",
      "8/8 [==============================] - 0s 2ms/step - loss: 0.3605 - accuracy: 0.8554\n",
      "Epoch 263/300\n",
      "8/8 [==============================] - 0s 2ms/step - loss: 0.3653 - accuracy: 0.8471\n",
      "Epoch 264/300\n",
      "8/8 [==============================] - 0s 2ms/step - loss: 0.3652 - accuracy: 0.8347\n",
      "Epoch 265/300\n",
      "8/8 [==============================] - 0s 2ms/step - loss: 0.3632 - accuracy: 0.8430\n",
      "Epoch 266/300\n",
      "8/8 [==============================] - 0s 2ms/step - loss: 0.3713 - accuracy: 0.8512\n",
      "Epoch 267/300\n",
      "8/8 [==============================] - 0s 2ms/step - loss: 0.3562 - accuracy: 0.8512\n",
      "Epoch 268/300\n",
      "8/8 [==============================] - 0s 2ms/step - loss: 0.3620 - accuracy: 0.8512\n",
      "Epoch 269/300\n",
      "8/8 [==============================] - 0s 2ms/step - loss: 0.3545 - accuracy: 0.8471\n",
      "Epoch 270/300\n",
      "8/8 [==============================] - 0s 1ms/step - loss: 0.3736 - accuracy: 0.8347\n",
      "Epoch 271/300\n",
      "8/8 [==============================] - 0s 1ms/step - loss: 0.3753 - accuracy: 0.8099\n",
      "Epoch 272/300\n",
      "8/8 [==============================] - 0s 1ms/step - loss: 0.3607 - accuracy: 0.8512\n",
      "Epoch 273/300\n",
      "8/8 [==============================] - 0s 1ms/step - loss: 0.3590 - accuracy: 0.8430\n",
      "Epoch 274/300\n",
      "8/8 [==============================] - 0s 2ms/step - loss: 0.3739 - accuracy: 0.8182\n",
      "Epoch 275/300\n",
      "8/8 [==============================] - 0s 1ms/step - loss: 0.3890 - accuracy: 0.8306\n",
      "Epoch 276/300\n",
      "8/8 [==============================] - 0s 2ms/step - loss: 0.3674 - accuracy: 0.8264\n",
      "Epoch 277/300\n",
      "8/8 [==============================] - 0s 1ms/step - loss: 0.3757 - accuracy: 0.8388\n",
      "Epoch 278/300\n",
      "8/8 [==============================] - 0s 1ms/step - loss: 0.3603 - accuracy: 0.8512\n",
      "Epoch 279/300\n",
      "8/8 [==============================] - 0s 1ms/step - loss: 0.3731 - accuracy: 0.8471\n",
      "Epoch 280/300\n",
      "8/8 [==============================] - 0s 2ms/step - loss: 0.3554 - accuracy: 0.8430\n",
      "Epoch 281/300\n",
      "8/8 [==============================] - 0s 2ms/step - loss: 0.3706 - accuracy: 0.8306\n",
      "Epoch 282/300\n",
      "8/8 [==============================] - ETA: 0s - loss: 0.2976 - accuracy: 0.87 - 0s 2ms/step - loss: 0.3777 - accuracy: 0.8471\n",
      "Epoch 283/300\n",
      "8/8 [==============================] - 0s 2ms/step - loss: 0.3623 - accuracy: 0.8306\n",
      "Epoch 284/300\n",
      "8/8 [==============================] - 0s 2ms/step - loss: 0.3778 - accuracy: 0.8347\n",
      "Epoch 285/300\n",
      "8/8 [==============================] - 0s 2ms/step - loss: 0.3634 - accuracy: 0.8471\n",
      "Epoch 286/300\n",
      "8/8 [==============================] - 0s 2ms/step - loss: 0.3672 - accuracy: 0.8223\n",
      "Epoch 287/300\n",
      "8/8 [==============================] - 0s 2ms/step - loss: 0.3630 - accuracy: 0.8388\n",
      "Epoch 288/300\n",
      "8/8 [==============================] - 0s 2ms/step - loss: 0.3734 - accuracy: 0.8306\n",
      "Epoch 289/300\n",
      "8/8 [==============================] - 0s 2ms/step - loss: 0.3771 - accuracy: 0.8512\n",
      "Epoch 290/300\n",
      "8/8 [==============================] - 0s 2ms/step - loss: 0.3525 - accuracy: 0.8595\n",
      "Epoch 291/300\n",
      "8/8 [==============================] - 0s 2ms/step - loss: 0.3663 - accuracy: 0.8430\n",
      "Epoch 292/300\n",
      "8/8 [==============================] - 0s 2ms/step - loss: 0.3610 - accuracy: 0.8554\n",
      "Epoch 293/300\n",
      "8/8 [==============================] - 0s 4ms/step - loss: 0.3644 - accuracy: 0.8388\n",
      "Epoch 294/300\n",
      "8/8 [==============================] - 0s 2ms/step - loss: 0.3928 - accuracy: 0.8223\n",
      "Epoch 295/300\n",
      "8/8 [==============================] - 0s 3ms/step - loss: 0.3589 - accuracy: 0.8512\n",
      "Epoch 296/300\n",
      "8/8 [==============================] - 0s 2ms/step - loss: 0.3568 - accuracy: 0.8595\n",
      "Epoch 297/300\n",
      "8/8 [==============================] - 0s 2ms/step - loss: 0.3600 - accuracy: 0.8471\n",
      "Epoch 298/300\n",
      "8/8 [==============================] - 0s 2ms/step - loss: 0.3682 - accuracy: 0.8264\n",
      "Epoch 299/300\n",
      "8/8 [==============================] - 0s 2ms/step - loss: 0.3682 - accuracy: 0.8512\n",
      "Epoch 300/300\n",
      "8/8 [==============================] - 0s 2ms/step - loss: 0.3613 - accuracy: 0.8512\n"
     ]
    },
    {
     "data": {
      "text/plain": [
       "<tensorflow.python.keras.callbacks.History at 0x289e21a7e88>"
      ]
     },
     "execution_count": 63,
     "metadata": {},
     "output_type": "execute_result"
    }
   ],
   "source": [
    "model.fit(X_train,Y_train,epochs=300)"
   ]
  },
  {
   "cell_type": "code",
   "execution_count": 64,
   "metadata": {},
   "outputs": [],
   "source": [
    "Y_pred_nn = model.predict(X_test)"
   ]
  },
  {
   "cell_type": "code",
   "execution_count": 65,
   "metadata": {},
   "outputs": [
    {
     "data": {
      "text/plain": [
       "(61, 1)"
      ]
     },
     "execution_count": 65,
     "metadata": {},
     "output_type": "execute_result"
    }
   ],
   "source": [
    "Y_pred_nn.shape"
   ]
  },
  {
   "cell_type": "code",
   "execution_count": 66,
   "metadata": {},
   "outputs": [],
   "source": [
    "rounded = [round(x[0]) for x in Y_pred_nn]\n",
    "Y_pred_nn = rounded"
   ]
  },
  {
   "cell_type": "code",
   "execution_count": 67,
   "metadata": {},
   "outputs": [
    {
     "name": "stdout",
     "output_type": "stream",
     "text": [
      "The accuracy score achieved using Neural Network is: 85.25 %\n"
     ]
    }
   ],
   "source": [
    "score_nn = round(accuracy_score(Y_pred_nn,Y_test)*100,2)\n",
    "print(\"The accuracy score achieved using Neural Network is: \"+str(score_nn)+\" %\")"
   ]
  },
  {
   "cell_type": "markdown",
   "metadata": {},
   "source": [
    "### FINAL SCORE"
   ]
  },
  {
   "cell_type": "code",
   "execution_count": 68,
   "metadata": {},
   "outputs": [
    {
     "name": "stdout",
     "output_type": "stream",
     "text": [
      "The accuracy score achieved using Logistic Regression is: 85.25 %\n",
      "\n",
      "The accuracy score achieved using Naive Bayes is: 85.25 %\n",
      "\n",
      "The accuracy score achieved using Support Vector Machine is: 81.97 %\n",
      "\n",
      "The accuracy score achieved using K-Nearest Neighbors is: 67.21 %\n",
      "\n",
      "The accuracy score achieved using Decision Tree is: 81.97 %\n",
      "\n",
      "The accuracy score achieved using Random Forest is: 90.16 %\n",
      "\n",
      "The accuracy score achieved using XGBoost is: 78.69 %\n",
      "\n",
      "The accuracy score achieved using Neural Network is: 85.25 %\n",
      "\n"
     ]
    }
   ],
   "source": [
    "scores = [score_lr,score_nb,score_svm,score_knn,score_dt,score_rf,score_xgb,score_nn]\n",
    "algorithms = [\"Logistic Regression\",\"Naive Bayes\",\"Support Vector Machine\",\"K-Nearest Neighbors\",\"Decision Tree\",\"Random Forest\",\"XGBoost\",\"Neural Network\"]    \n",
    "for i in range(len(algorithms)):\n",
    "    print(\"The accuracy score achieved using \"+algorithms[i]+\" is: \"+str(scores[i])+\" %\\n\")"
   ]
  },
  {
   "cell_type": "code",
   "execution_count": 69,
   "metadata": {},
   "outputs": [
    {
     "data": {
      "text/plain": [
       "<matplotlib.axes._subplots.AxesSubplot at 0x289e23c68c8>"
      ]
     },
     "execution_count": 69,
     "metadata": {},
     "output_type": "execute_result"
    },
    {
     "data": {
      "image/png": "iVBORw0KGgoAAAANSUhEUgAAA68AAAIZCAYAAABJfAk1AAAABHNCSVQICAgIfAhkiAAAAAlwSFlzAAALEgAACxIB0t1+/AAAADh0RVh0U29mdHdhcmUAbWF0cGxvdGxpYiB2ZXJzaW9uMy4xLjMsIGh0dHA6Ly9tYXRwbG90bGliLm9yZy+AADFEAAAgAElEQVR4nOzdeZxVdf348ffAsAmKiKCWZpqEpQmUYYiigEKAAwaYS0iaZi7gziIg5Q64kLj1c6nEXEJAJUTMRDRlSzKXJDEVU1MERAQHBpj5/P7gwf2CLDMgdzhDz+dfzJ07577nfu69577mnnspSCmlAAAAgAyrtr0HAAAAgPKIVwAAADJPvAIAAJB54hUAAIDME68AAABknngFAAAg88QrAAAAmVe4vQfYUosXfx5lZf5rWgAAgB1JtWoF0aBB3U1+v8rFa1lZEq8AAAD/Yxw2DAAAQOaJVwAAADJPvAIAAJB54hUAAIDME68AAABknngFAAAg88QrAAAAmSdeAQAAyDzxCgAAQOaJVwAAADJPvAIAAJB54hUAAIDME68AAABknngFAAAg88QrAAAAmSdeAQAAyDzxCgAAQOaJVwAAADJPvAIAAJB54hUAAIDMK9zeAwAA/K+rv0vNqFmr1vYeY4e3sqQklny2cnuPAWwl8QoAsJ3VrFUrbrrsF9t7jB3exdf9v4gQr1BVOWwYAACAzBOvAAAAZJ54BQAAIPPEKwAAAJknXgEAAMg88QoAAEDmiVcAAAAyT7wCAACQeeIVAACAzBOvAAAAZJ54BQAAIPPEKwAAAJknXgEAAMg88QoAAEDmiVcAAAAyT7wCAACQeeIVAACAzBOvAAAAZJ54BQAAIPPEKwAAAJknXgEAAMg88QoAAEDmiVcAAAAyT7wCAACQeYXbe4B82XmX2lG7Vo3tPcYOb0XJqlj62Yptvt0G9WtGYc1a23y7/J/VK0ti8ZKV23sMAIDtpn792lGzpmbIt5UrV8WSJV++GXbYeK1dq0ac0v/+7T3GDu+BET+JpbHt47WwZq2YPeLMbb5d/s/3+t8dEeIVAPjfVbNmjbjxxhu39xg7vEsuuSRiGzSDw4YBAADIPPEKAABA5olXAAAAMk+8AgAAkHniFQAAgMwTrwAAAGSeeAUAACDzxCsAAACZJ14BAADIPPEKAABA5olXAAAAMk+8AgAAkHniFQAAgMwTrwAAAGSeeAUAACDzCrf3AMCOZZf6taJWzZrbe4wdXsnKlfHZkpLtPQYZU3+XOlGzll17Pq0sWR1LPlu+vccA+J9kDwdsU7Vq1ozTfnfB9h5jh/f702+OCPHK+mrWKoxrB4/d3mPs0AZd03N7jwDwP8thwwAAAGSeeAUAACDzxCsAAACZJ14BAADIvLzG62OPPRZdunSJLl26xPDhwyMiYs6cOdG9e/fo2LFjDB48OFavXp3PEQAAANgB5C1ely9fHtdcc03cd9998dhjj8WLL74Y06ZNi379+sXQoUPjySefjJRSjBkzJl8jAAAAsIPIW7yWlpZGWVlZLF++PFavXh2rV6+OwsLCWLFiRTRv3jwiIrp37x6TJ0/O1wgAAADsIPL2/7zWq1cvLrjggujUqVPUqVMnvv/970eNGjWiUaNGufM0atQo5s+fn68RAAAA2EHkLV7/9a9/xbhx4+KZZ56JnXfeOS699NJ44YUXoqCgIHeelNJ6X1dEw4b1tvWofEmNGu28vUdgK1m7qs36wfbhvle1WT/YPrbFfS9v8fr8889Hq1atomHDhhGx5hDhe+65JxYsWJA7z8KFC6Nx48ZbtN1Fi5ZFWVkq93wemCrPggVLt/k2rV/lsHZVWz7Wj6rN/a9yeOys2jx2si73vcpTkftetWoFm32xMm/veT3wwANj2rRpUVxcHCmlmDJlSrRs2TJq1aoVs2fPjog1n0bcpk2bfI0AAADADiJvr7weccQR8frrr0f37t2jRo0a8Z3vfCfOOuusOPbYY2PIkCGxbNmyOOigg6J37975GgEAAIAdRN7iNSLirLPOirPOOmu90w488MAYO3ZsPi8WAACAHUzeDhsGAACAbUW8AgAAkHl5PWwYAAB2dA3q14nCmp5W59Pqlatj8ZLl23sMtjP3MgAA+BIKaxbGy7dP3d5j7NCanXv09h6BDHDYMAAAAJknXgEAAMg88QoAAEDmiVcAAAAyT7wCAACQeeIVAACAzBOvAAAAZJ54BQAAIPPEKwAAAJknXgEAAMg88QoAAEDmiVcAAAAyT7wCAACQeeIVAACAzBOvAAAAZJ54BQAAIPPEKwAAAJknXgEAAMg88QoAAEDmiVcAAAAyT7wCAACQeeIVAACAzBOvAAAAZJ54BQAAIPPEKwAAAJknXgEAAMg88QoAAEDmiVcAAAAyT7wCAACQeeIVAACAzBOvAAAAZJ54BQAAIPPEKwAAAJknXgEAAMg88QoAAEDmiVcAAAAyT7wCAACQeeIVAACAzBOvAAAAZJ54BQAAIPPEKwAAAJknXgEAAMg88QoAAEDmiVcAAAAyT7wCAACQeeIVAACAzBOvAAAAZJ54BQAAIPPEKwAAAJknXgEAAMg88QoAAEDmiVcAAAAyT7wCAACQeeIVAACAzBOvAAAAZJ54BQAAIPPEKwAAAJlXuL0HACA7dt25ZtSoXWt7j7FDW7WiJD5dunJ7jwEAVY54BSCnRu1aMan36dt7jB1a59G/ixCvALDFHDYMAABA5olXAAAAMk+8AgAAkHniFQAAgMwTrwAAAGSeeAUAACDzxCsAAACZJ14BAADIPPEKAABA5olXAAAAMk+8AgAAkHniFQAAgMwTrwAAAGSeeAUAACDzxCsAAACZJ14BAADIPPEKAABA5olXAAAAMk+8AgAAkHniFQAAgMwTrwAAAGSeeAUAACDzxCsAAACZJ14BAADIPPEKAABA5olXAAAAMk+8AgAAkHniFQAAgMwTrwAAAGSeeAUAACDzxCsAAACZl9d4nTJlSnTv3j06deoUV199dURETJs2LYqKiqJDhw4xcuTIfF48AAAAO4i8xet7770Xv/zlL+P222+PCRMmxOuvvx7PPvtsDBo0KG6//faYNGlSvPbaa/Hss8/mawQAAAB2EHmL16eeeio6d+4ce+65Z9SoUSNGjhwZderUiX333Tf22WefKCwsjKKiopg8eXK+RgAAAGAHUZivDb/77rtRo0aNOPvss+PDDz+Mo48+Opo0aRKNGjXKnadx48Yxf/78fI0AAADADiJv8VpaWhovvvhi3HfffbHTTjvFOeecE7Vr146CgoLceVJK631dEQ0b1tvWo/IlNWq08/Yega1k7ao261d1WbuqzfpVbdav6rJ2Vdu2WL+8xevuu+8erVq1it122y0iIo455piYPHlyVK9ePXeeBQsWROPGjbdou4sWLYuyslTu+dy4K8+CBUu3+TatX+WwdlWb9au68rF2EdavsrjvVW3Wr+qydlVbRdavWrWCzb5Ymbf3vLZt2zaef/75+Oyzz6K0tDT++te/xg9/+MN455134t13343S0tKYOHFitGnTJl8jAAAAsIPI2yuvzZo1izPPPDNOOeWUWLVqVbRu3TpOPvnk2H///aNv375RUlISRx11VPzwhz/M1wgAAADsIPIWrxERPXv2jJ49e653WqtWrWLChAn5vFgAAAB2MHk7bBgAAAC2FfEKAABA5olXAAAAMk+8AgAAkHniFQAAgMwTrwAAAGSeeAUAACDzxCsAAACZJ14BAADIPPEKAABA5olXAAAAMk+8AgAAkHniFQAAgMwTrwAAAGSeeAUAACDzxCsAAACZJ14BAADIPPEKAABA5olXAAAAMk+8AgAAkHniFQAAgMyrULxOnjw5Ro4cGcuXL4+JEyfmeyYAAABYT7nxeuedd8aDDz4YkydPjhUrVsStt94at912W2XMBgAAABFRgXh9/PHH46677oo6depEgwYNYsyYMV59BQAAoFKVG6+FhYVRs2bN3Ne77LJLFBYW5nUoAAAAWFe5FbrXXnvF1KlTo6CgIFauXBn33HNPfPWrX62M2QAAACAiKhCvl19+efTv3z/eeOONaN68eTRr1ixuvPHGypgNAAAAIqIC8frqq6/GvffeG8uXL4/S0tKoV69eZcwFAAAAOeW+53XkyJEREVGnTh3hCgAAwHZR7iuv3/zmN+OOO+6IQw89NHbaaafc6QcddFBeBwMAAIC1yo3Xl19+OV5++eV4+OGHc6cVFBTE008/ndfBAAAAYK1y43XKlCmVMQcAAABsUrnxWlxcHCNGjIjnnnsuVq9eHa1bt47Bgwd7/ysAAACVptwPbLruuuti5cqVcdttt8Xtt98eBQUFcdVVV1XGbAAAABARFXzP64QJE3JfX3311dGlS5e8DgUAAADrKveV19LS0igrK8t9XVZWFtWrV8/rUAAAALCucl95bdWqVVx44YVx8sknR0TEgw8+GC1btsz7YAAAALBWufE6cODAuOOOO+Kmm26K0tLSaNOmTZxzzjmVMRsAAABERAXiNSJi3333jYcffjgWLFgQjz/+eNSoUSPfcwEAAEBOue95/dWvfhVTp05dc+Zq1WL27Nlx7bXX5nsuAAAAyCn3ldd//OMfMXHixIiIaNiwYdx8883RrVu3vA8GAAAAa5X7yuuqVati5cqVua9Xr16d14EAAADgi8p95fXoo4+OM844I7p16xYFBQUxceLEOOqooypjNgAAAIiICsRr//794/7774+nn346CgsL49hjj42TTjqpMmYDAACAiKhAvFavXj169+4dvXv3jvnz58d7770X1aqVe7QxAAAAbDPlVugDDzwQl1xySXzyySfRvXv3GDx4cNx4442VMRsAAABERAXidezYsXHZZZfF5MmTo127dvH444/HCy+8UBmzAQAAQERUIF4LCgpi9913j+nTp0erVq2isLAwysrKKmM2AAAAiIgKxGvNmjXjrrvuilmzZkXr1q3jgQceiDp16lTGbAAAABARFYjXa665JubNmxfDhw+P+vXrx+zZs+Oaa66pjNkAAAAgIirwacP777//erHqw5oAAACobP7PGwAAADJPvAIAAJB55cbr4sWLK2MOAAAA2KRy47VLly5xySWXxIsvvlgZ8wAAAMAGyo3XKVOmxOGHHx4jRoyIoqKiuP/++2PZsmWVMRsAAABERAXitXbt2tGjR48YM2ZMDBkyJH7729/GkUceGVdccYVDigEAAKgUFfrApueeey769u0bF110URxzzDHx0EMPxV577RXnnntuvucDAACA8v+f17Zt28auu+4ap5xySlx//fVRu3btiIho2rRp/PGPf8z7gAAAAFBuvN54443RtGnTqFu3bqxcuTIWLVoUDRs2jIiIp59+Ou8DAgAAQLmHDX/00Ufxox/9KCIiPvjgg+jSpUtMmTIl74MBAADAWuXG629+85sYPXp0RETst99+8cgjj8Qtt9yS98EAAABgrXLjtaysLPbcc8/c13vttVeUlZXldSgAAABYV7nxuttuu8VDDz0Uq1evjtLS0hg7dmzsvvvulTEbAAAAREQF4vXKK6+MMWPGxCGHHBKHHHJIjBkzJn75y19WxmwAAAAQERX4tOGvf/3rMX78+FiyZElUr1496tWrVxlzAQAAQE658frJJ5/EhAkT4vPPP4+UUpSVlcW7774bN954Y2XMBwAAAOXH64UXXhi1a9eOf//733H44YfHtGnT4nvf+15lzAYAAAARUYH3vP73v/+NO++8M9q0aRO9evWKBx98MN5+++3KmA0AAAAiogLxuvaThb/+9a/H3LlzY4899ojVq1fnfTAAAABYq9zDhhs2bBh33313NG/ePG655ZaoV69erFixojJmAwAAgIio4H+VU7NmzTj00EPj4IMPjlGjRsWll15aGbMBAABARFTgldfhw4fHiBEjIiKiX79+0a9fv7wPBQAAAOsq95XXOXPmREqpMmYBAACAjSr3ldfGjRtHly5dolmzZlG3bt3c6UOGDMnrYAAAALBWufHaokWLaNGiRWXMAgAAABtVbrz26dOnMuYAAACATSo3XouKijZ6+p/+9KdtPgwAAABsTLnxevnll+f+vWrVqnj88cdjn332yetQAAAAsK5y47Vly5brfX344YfHSSedFOecc07ehgIAAIB1lftf5XzR4sWL4+OPP87HLAAAALBRW/ye1//+979x4okn5m0gAAAA+KItes9rQUFB7LbbbvGNb3wjr0MBAADAuso9bPhrX/taTJo0KVq2bBkNGzaMG2+8MRYuXFgZswEAAEBEVCBeBw4cGPvvv39ERHz1q1+Nli1bxmWXXZb3wQAAAGCtcuN18eLF0bt374iIqFWrVpx22mmxYMGCvA8GAAAAa5Ubr6WlpTF//vzc1wsXLoyUUl6HAgAAgHWV+4FNp512Whx//PFx5JFHRkFBQUybNi369+9fGbMBAABARFQgXnv27BkHH3xwzJgxI6pXrx5nnnlmNGnSpDJmAwAAgIiowGHD8+fPj4ceeihOO+20aN26dYwcOdJ7XgEAAKhU5cbrgAEDNvi04UGDBuV9MAAAAFjLpw0DAACQeT5tGAAAgMzbok8bjoiYPn26TxsGAACgUm3xpw1/7Wtfi9GjR0dRUVFlzAcAAADlx2tExF577RUrV66M+++/P4qLi+PUU0+t8AUMHz48Fi9eHMOGDYs5c+bE4MGD4/PPP49DDz00rrjiiigsrNAIAAAA/A/b7Hte33777fjlL38ZRx99dEyYMCFWrFgRU6ZMifPPP79CG58+fXo88sgjua/79esXQ4cOjSeffDJSSjFmzJgvNz0AAAD/EzYZr2eddVb06tUratSoEaNHj46JEydG3bp1Y+edd67Qhj/99NMYOXJknH322RER8cEHH8SKFSuiefPmERHRvXv3mDx58jb4FQAAANjRbfKY3ddffz0OOuigaNKkSey7774REVFQUFDhDQ8dOjQuuuii+PDDDyMi4uOPP45GjRrlvt+oUaP1PsW4oho2rLfFP0N+NWpUsT9okD3WrmqzflWXtavarF/VZv2qLmtXtW2L9dtkvE6dOjX+/Oc/x4MPPhjXXHNNHH300VFSUlKhjT788MOx1157RatWrWL8+PEREVFWVrZe/KaUtiiG11q0aFmUlZX/X/W4cVeeBQuWbvNtWr/KYe2qNutXdeVj7SKsX2Vx36varF/VZe2qtoqsX7VqBZt9sXKT8VpYWBidO3eOzp07x7///e946KGHoqSkJDp06BCnn356nHzyyZvc6KRJk2LBggXRrVu3WLJkSRQXF0dBQUEsWLAgd56FCxdG48aNy/0FAAAAYLMf2LTWAQccEEOGDInnnnsuzjjjjHI/aOl3v/tdTJw4MR577LE4//zzo127dnHddddFrVq1Yvbs2RER8dhjj0WbNm2+/G8AAADADm+L/p+aOnXqxIknnhgnnnjiVl3YDTfcEEOGDIlly5bFQQcdFL17996q7QAAAPC/Je//yWr37t2je/fuERFx4IEHxtixY/N9kQAAAOxgKnTYMAAAAGxP4hUAAIDME68AAABknngFAAAg88QrAAAAmSdeAQAAyDzxCgAAQOaJVwAAADJPvAIAAJB54hUAAIDME68AAABknngFAAAg88QrAAAAmSdeAQAAyDzxCgAAQOaJVwAAADJPvAIAAJB54hUAAIDME68AAABknngFAAAg88QrAAAAmSdeAQAAyDzxCgAAQOaJVwAAADJPvAIAAJB54hUAAIDME68AAABknngFAAAg88QrAAAAmSdeAQAAyDzxCgAAQOaJVwAAADJPvAIAAJB54hUAAIDME68AAABknngFAAAg88QrAAAAmSdeAQAAyDzxCgAAQOaJVwAAADJPvAIAAJB54hUAAIDME68AAABknngFAAAg88QrAAAAmSdeAQAAyDzxCgAAQOaJVwAAADJPvAIAAJB54hUAAIDME68AAABknngFAAAg88QrAAAAmSdeAQAAyDzxCgAAQOaJVwAAADJPvAIAAJB54hUAAIDME68AAABknngFAAAg88QrAAAAmSdeAQAAyDzxCgAAQOaJVwAAADJPvAIAAJB54hUAAIDME68AAABknngFAAAg88QrAAAAmSdeAQAAyDzxCgAAQOaJVwAAADJPvAIAAJB54hUAAIDME68AAABknngFAAAg88QrAAAAmSdeAQAAyDzxCgAAQOaJVwAAADJPvAIAAJB54hUAAIDME68AAABknngFAAAg88QrAAAAmSdeAQAAyDzxCgAAQOaJVwAAADJPvAIAAJB54hUAAIDME68AAABknngFAAAg88QrAAAAmSdeAQAAyLy8xuutt94aXbp0iS5dusSIESMiImLatGlRVFQUHTp0iJEjR+bz4gEAANhB5C1ep02bFs8//3w88sgj8eijj8Y///nPmDhxYgwaNChuv/32mDRpUrz22mvx7LPP5msEAAAAdhB5i9dGjRrFwIEDo2bNmlGjRo34xje+EfPmzYt999039tlnnygsLIyioqKYPHlyvkYAAABgB5G3eG3SpEk0b948IiLmzZsXTzzxRBQUFESjRo1y52ncuHHMnz8/XyMAAACwgyjM9wW8+eab8Ytf/CL69+8f1atXj3nz5uW+l1KKgoKCLdpew4b1tvGEfFmNGu28vUdgK1m7qs36VV3WrmqzflWb9au6rF3Vti3WL6/xOnv27Dj//PNj0KBB0aVLl5g1a1YsWLAg9/0FCxZE48aNt2ibixYti7KyVO753Lgrz4IFS7f5Nq1f5bB2VZv1q7rysXYR1q+yuO9Vbdav6rJ2VVtF1q9atYLNvliZt8OGP/zwwzjvvPPihhtuiC5dukRERLNmzeKdd96Jd999N0pLS2PixInRpk2bfI0AAADADiJvr7zec889UVJSEsOGDcuddtJJJ8WwYcOib9++UVJSEkcddVT88Ic/zNcIAAAA7CDyFq9DhgyJIUOGbPR7EyZMyNfFAgAAsAPK22HDAAAAsK2IVwAAADJPvAIAAJB54hUAAIDME68AAABknngFAAAg88QrAAAAmSdeAQAAyDzxCgAAQOaJVwAAADJPvAIAAJB54hUAAIDME68AAABknngFAAAg88QrAAAAmSdeAQAAyDzxCgAAQOaJVwAAADJPvAIAAJB54hUAAIDME68AAABknngFAAAg88QrAAAAmSdeAQAAyDzxCgAAQOaJVwAAADJPvAIAAJB54hUAAIDME68AAABknngFAAAg88QrAAAAmSdeAQAAyDzxCgAAQOaJVwAAADJPvAIAAJB54hUAAIDME68AAABknngFAAAg88QrAAAAmSdeAQAAyDzxCgAAQOaJVwAAADJPvAIAAJB54hUAAIDME68AAABknngFAAAg88QrAAAAmSdeAQAAyDzxCgAAQOaJVwAAADJPvAIAAJB54hUAAIDME68AAABknngFAAAg88QrAAAAmSdeAQAAyDzxCgAAQOaJVwAAADJPvAIAAJB54hUAAIDME68AAABknngFAAAg88QrAAAAmSdeAQAAyDzxCgAAQOaJVwAAADJPvAIAAJB54hUAAIDME68AAABknngFAAAg88QrAAAAmSdeAQAAyDzxCgAAQOaJVwAAADJPvAIAAJB54hUAAIDME68AAABknngFAAAg88QrAAAAmSdeAQAAyDzxCgAAQOaJVwAAADJPvAIAAJB54hUAAIDME68AAABknngFAAAg88QrAAAAmSdeAQAAyDzxCgAAQOaJVwAAADJPvAIAAJB54hUAAIDME68AAABknngFAAAg87ZLvP7pT3+Kzp07R4cOHeL+++/fHiMAAABQhRRW9gXOnz8/Ro4cGePHj4+aNWvGSSedFIcddlgccMABlT0KAAAAVUSlv/I6bdq0+MEPfhC77rpr7LTTTtGxY8eYPHlyZY8BAABAFVLpr7x+/PHH0ahRo9zXjRs3jldeeaXCP1+tWkGFz7t7g7pbNBtbZ0vWZEvU3KVhXrbL/8nX2u1eb7e8bJf15Wv96uzuvpdv+Vq7iIj6u+6Ut22zRr7Wb5dd3fcqQ77Wr8bOtfOyXf5P3u57u+ySl+2yvoqsX3nnKUgppW01UEXccccdUVJSEhdeeGFERIwZMyZee+21uPLKKytzDAAAAKqQSj9seM8994wFCxbkvl6wYEE0bty4sscAAACgCqn0eD388MNj+vTp8cknn8Ty5cvjz3/+c7Rp06ayxwAAAKAKqfT3vO6xxx5x0UUXRe/evWPVqlXRs2fPOOSQQyp7DAAAAKqQSn/PKwAAAGypSj9sGAAAALaUeAUAACDzxCsAAACZJ14BAADIPPEKAABA5u1Q8Tpz5sw49dRTt8m2unXrttnvr3s55Z13Xe3atYvOnTtHt27dolu3btGuXbs4//zzo7i4eKtn3Zbmz58fP//5z7f3GFvt/fffj6ZNm8YLL7yw3unt2rWL999/f5M/t61+76ZNm+bWtnPnzjF48OAoKSn50tvdXiZPnhzdu3ePrl27RlFRUdx9993bbZZnnnkmfve736132rJly6JFixYxf/789U6fNWtW/OhHP9riy3jllVfi+uuv3+oZx48fH02bNo2JEyeud/rvf//7aNq06WZvg5sycODAGD9+/AanP/jgg/Hggw9u1ZxffKxctmxZ/PjHP45hw4ZtcN6tvU/ly5gxYza4fiMibrnllujYsWOsWLEid1pF9gkVuR439bueeuqpMXPmzApOni3vv/9+HHzwwbnHq44dO8Zll10WCxcu3Krt3XzzzfH0009v8vuDBw+OV199dWvHjYiIcePG5eY9+OCDc/vSK6644ktttyr44noVFRVFu3btYtSoUdtk++PHj4+BAwduk22tu82WLVvmZu7WrVucccYZ2/Qy1vVlH7+zaubMmXHEEUfEokWLcqfdfffd0bdv34iImD59evTq1Ss6duwYxx57bJx//vnx0Ucf5X62RYsW0a1bt+jatWt06tQp7r333m0639KlS+O8887bptvMku21D3z//fejXbt2G5y+tfu6fNw/brnllrjlllu26TYrotL/n9eq4rHHHtvs92fNmlXh837RnXfeGXvvvfECDgYAACAASURBVHdERKxcuTJOOeWUePTRR+OUU07Z8kG3sT322CPuuuuu7T3Gl1KjRo24/PLLY8KECVGvXr0K/cy2/L3X3h5SStG3b98YO3Zs/OQnP9km265M8+fPj+HDh8f48eOjQYMG8fnnn8epp54a++23X7Rv377S53nttdc2OK1evXpx7LHHxuOPPx4/+9nPcqc/+uij0bNnzy2+jH//+9/rPUHYGnvuuWc8+eSTcdxxx+VOe+qpp2KXXXb5Utv9opNPPnmbbOfzzz+PM888M1q2bBmXXnrpRs+zNfepfPn73/8eLVu23Oj3Pvjgg7jpppti0KBBFd7etroeq6LGjRuv93h10003xfnnnx8PPPDAFm/rggsu2Oz3r7nmmq2acV09evSIHj16RMSaJ47r7kv/F6y7XhFrHqM7duwYXbp0iW984xvbcbJNa9eu3Ub/KJYP2+LxO4sOO+ywKCoqiiFDhsQdd9wRL730UowZMybGjh0bL774YvTr1y9uvfXWaN68eURE3H///XHeeefFuHHjIiLi4IMPjvvuuy8i1vyhskuXLtG6des44IADtsl8S5YsiTlz5myTbWVVlvaBEVu3r9uR7h//M/H6m9/8JiZMmBDVq1eP1q1bR79+/aJ69eoxevTo+MMf/hA777xz7L///vG1r30t+vbtG02bNo033ngjpk+fnvtLRf369ePGG2+M22+/PSIiTjjhhHj44Ydz5/30009j8ODB8fbbb0fNmjVj4MCB0apVq83OtXTp0li6dGnsuuuuERHx3HPPxahRo2L16tWx9957x1VXXRUNGjSImTNnxtVXXx3Vq1eP5s2bx1tvvRX33XdfnHrqqVG/fv14880349e//nUsWLBgoz8/fPjweOGFF6JatWpxzDHHRJ8+fTb6uxUXF0fv3r1jypQpsXDhwhg8eHD897//jcLCwrjooouiTZs2ccstt8T8+fPj3XffjQ8++CBOOOGEOOecc/K4elumcePGcfjhh8fw4cPjqquuWu97q1evjl/96lfx5ptvxsKFC6Np06Zx0003xcKFC6N3794xbty4OO6442Lq1KlRo0aNmDt3blx66aUxYcKEePTRR+Pee++NsrKyOOigg+KXv/xl1KpVa5NzrFq1KpYvXx677757RETMnTs3rrrqqiguLo5PPvkkzjrrrDjxxBPjmGOOiXvuuSf222+/KC4ujk6dOsWf//znmDlzZoXXMh8WL14cq1atyv11r27dujFs2LDc79yuXbsYPXp07L333jFz5sy49dZbc7fJAw88MF588cUoKSmJQYMGxRFHHBEDBw6MWrVqxauvvhqff/55nHPOOXH88cfH8uXLY8iQIfHGG29EQUFBnHHGGXH88cfH+PHj45FHHolPP/009t1333jppZciIuIrX/lK7glsRET37t1jxIgRuXgtKSmJqVOnxoABAyIiNrluf/rTn+KOO+6IgoKC+M53vhP9+/ePUaNGRXFxcdxxxx3xi1/8Iq699tqYPn16FBQURNeuXeOss86KmTNnxvXXXx9lZWXRpEmTGD58+HrX2/e///2YPXt2FBcXx0477RT//e9/o27durHzzjtHxKZvg7Vr147f//738eCDD0b16tWjbdu20a9fv4iImDp1ajzwwAOxaNGiOPvss+PEE0/M/bWzb9++ccQRR0THjh1j9uzZUb169fj1r38d++yzT7zyyitx3XXXxYoVK6JBgwZxxRVXxD777JObtbi4OM4666z4wQ9+EBdeeOEmbwubu09FrPmD3BNPPBGlpaVxxBFHRL9+/aKgoCBGjhwZ06dPjyVLlkTjxo1j5MiRsfvuu8cPfvCDOPjgg2PBggUxduzY+N3vfrfBz3/++edx8cUX514JPO+886JOnToxZcqUmDFjRjRq1CiOPPLI9eY48cQTY9KkSdGhQ4c49NBD1/vewoULY+jQofHRRx9FQUFBXHLJJXH44Yevdz1OmjQpRo0aFTvttFN861vfitLS0twT79tuuy3mzJkTy5cvjxEjRkSzZs0iYs0rwdddd11ERFx22WVx2GGHVeg23bZt22jSpEncfffdUb169dh7773j+uuv3+xjSj4VFBRE3759o3Xr1vGvf/0rDjzwwE2u68ZupwMHDoyWLVtGhw4dNli39u3bx6mnnhp9+vSJww47bKP74w8//DD69OkTTZo0iTlz5kTDhg3j5ptvzu0by/PF++XQoUPjyiuvjDfffDNKS0vj5z//eRx33HFRWloaI0aMiFmzZkVpaWl07949TjvttDxes/mzYMGCSClF3bp1N7tv29T1+uijj8Ydd9wR9erVi69+9aux0047RUTEP/7xj7jmmmuipKQkGjRoEFdeeWXsu+++ceqpp8a3v/3tmD17dpSUlMSll14ao0ePjrfeeitOO+20LboeN3cZW/Ocpnfv3us9fmfpOcm2cNFFF8UJJ5yQe846fPjw2GWXXeL222+Pc845JxeuERE/+clPYsWKFbFy5coNtlNSUhLVq1fP7Y82tQ7vvPNODB06ND799NPYaaedYvDgwXHIIYfEn/70pw0es66++ur4+OOP47zzzovbbrut0q6TyrQ1+8APPvgg93w6Itbb13xxH3jFFVdscN/dnC3d1x188MG5+8ett94a999/fzz11FNRr169OOmkk6Jdu3Zx1llnxcSJE2P27Nlx+eWXV+j5z9o/HpaWlsZFF10Ue++9d/Tv339bXOWbl3YgM2bMSL169drg9KlTp6YTTjghFRcXp1WrVqWzzz47/eEPf0hz5sxJHTp0SEuXLk0rVqxIJ5xwQho1alRKKaVvfvObKaWUevXqlV5++eWUUkp33nln+utf/7re99f9969+9as0bNiwlFJK//rXv9KPf/zjDWZp27Zt6tSpUzruuONSq1at0o9+9KM0evToVFZWlhYtWpS6du2aPv3005RSSg8++GAaNGhQWrlyZWrTpk2aM2dOSimlq666Kvd79urVKzfzpn7+/fffT507d04ppVRcXJwuuOCCtGLFio3+bu+9915q27ZtSiml888/P/32t79NKaX0n//8J7Vu3TotWLAgjRo1KvXs2TOVlJSkhQsXpubNm6clS5Zs6XLlxdr5ly5dmo4++uj0/PPPp5TWXO/vvfdemjVrVvrVr36VUkqptLQ09erVK02ePHm93/vss89OU6ZMSSmldNNNN6W77rorzZ07N5188slpxYoVKaWUbrjhhnTbbbdtcPnf/OY3U9euXVPXrl1Ty5YtU1FRUe66ufrqq9O0adNSSmuuz+bNm6eUUrr55pvTr3/965RSSo888kgaOnToFq9lvgwdOjR9+9vfTj169EgjRozI3QZT+r/rNKX173u9evVKAwcOTCml9Prrr6fWrVunkpKSNGDAgHT66aenlStXpg8//DC1atUqffzxx2n48OHpqquuSimtuQ23a9cuzZkzJ40bNy4de+yxadWqVSmllEaNGpW7ra+rrKwstW/fPr311lsppZQmTpyYLr744pRS2uS6ffTRR6lVq1bpww8/TCmldOmll6annnoqjRs3Lg0YMCCllNIf/vCHdO6556bVq1en4uLi1KNHj/TMM8+kGTNmpO9973vps88+22CWtT8/ZMiQNGnSpJRSSnfddVcaP358ubfBl19+OR177LHps88+S6tWrUo//elP06uvvpoGDBiQfvGLX6SysrL0xhtvpMMOO2yD6+Ob3/xmeuqpp1JKKV133XXpuuuuSyUlJamoqCh98MEHKaWUnnvuufTTn/40t149evRIvXr1SoceemhavHjxJm8D5d2nnn322dS3b9+0evXqVFpami6++OL06KOPpnnz5qU+ffqk0tLSlFJK/fr1S/fcc09u3hkzZqSU0iZ/fvz48bnr6fXXX889tg4YMCCNGzdugznXXh9PPfVU6tChQ1q+fPl6t8sLL7ww/eUvf0kppTR//vzUvn37tHTp0tzPLVq0KLVu3Tp99NFHqbS0NJ133nm520Lbtm3T3XffnVJK6b777kt9+/ZNKa25rQ8ZMiSllNKcOXPSkUcemUpKSip8m27Xrl1auHBhSimlYcOGpddff32T67CtrfuYt64ePXqkxx9/fJPrsrnb6bhx4za5br169UozZszY5P74vffeS02bNk3//Oc/U0op9enTJ40ePXqT86/7+JNS2uB+ef3116d77703pZTS0qVLU5cuXdJ//vOf9MADD6Rrr702pZRSSUlJ6tWrV/rb3/62Da7R/HrvvffSQQcdlLp27Zo6duyYWrZsmc4444z03HPPpZTSZvdtG7teP/roo9w+fdWqVelnP/tZGjBgQCopKUlt27bNPTeYNGlS6t69e0ppzRpec801KaWUbrnllnTMMcek4uLi9P7776dDDz10g5nHjRuXvv/97+f2iV27dk3Tp08v9zK29jnNuo/fO6K5c+emb33rW2nkyJG501q0aJHeeOONTf7MjBkzUvPmzVPXrl3Tcccdlw455JA0YMCAVFZWttl16NGjR3ryySdTSim99NJL6eijj04lJSUbfcza1GPJjmJr94FfvF6+uM9euw+syPPSdW3tvm7d+8eFF16YpkyZkpYtW5aOPPLIdOaZZ6aUUurfv3+aOnVqhZ//jBo1Kt18881p4MCBuceGyvA/8crrjBkzokuXLlGnTp2IWHPo0aOPPhorV66Mtm3b5g4B6NKlS3z22Wfr/Wz79u2jT58+ccwxx0T79u2jdevWm7ycv/3tb3HDDTdExJr3Pv7xj3/c6PnWHur05JNPxrBhw+KHP/xhFBQUxMsvvxwffvhh9O7dOyIiysrKon79+jF37txo2LBhHHjggRER0bNnz/UOwTrkkEMiIjb583vssUfUqlUrTjrppGjbtm1ceumlUatWrY3+busevz9jxoy4+uqrIyJin332iWbNmsXLL78cEWsOY6lZs2Y0bNgwdt1111i6dOk2Pyzyy6hXr15cddVVucM81vr+978fu+66a9x///3x9ttvx7x58zZ4v3HXrl3j8ccfj7Zt28YTTzwR9913Xzz11FPx7rvvxo9//OOIWPOq6re//e2NXvbaw7rKysri2muvjYsuuijuueeeGDhwYPz1r3+N//f//l/MnTs3d7ndu3eP008/PS644IJ45JFH4uKLL97itcyXK664Is4999x4/vnn4/nnn48f//jHccMNN0SHDh02+3Nrr6dvfetb0ahRo3jjjTdyv2uNGjVizz33jO9+97sxe/bsmDFjRlx77bUREbHbbrtF+/btY9asWVGvXr349re/HYWFm3+YKigoiOOPPz4mTpwY559/fjz22GO5VwBmzpy50XV76aWX4rvf/W7sueeeERG5IxDWfW/pzJkz40c/+lFUr1496tSpE0VFRTF9+vRo165d7Lfffrm/XG9Mp06dYsyYMdGpU6f4y1/+EnfddVfur66bug3+7W9/i7Zt2+a2+/vf/z63vfbt20dBQUE0adIkFi9evNHLXPsqZJMmTeLFF1+MefPmxXvvvbfeKxDLli3L/fvVV1+NCy64IPbff/8YMmRI3HrrrZu9njd1n5o+fXq88sor0b1794iIWLFiRXzlK1+Jbt26xYABA+Lhhx+Od955J/7xj3/E1772tdzPrX3lclM/36NHj7jpppti/vz5cfTRR1f4PVXHHHNMPPHEE3HTTTetd3j7tGnT4u233869R3D16tXx3nvv5b7/4osvRosWLWKPPfaIiIjjjz8+/vKXv6y33YiIAw44IJ588snc6WsPTz/wwAOjYcOG8fbbb1f4Nt22bds4+eST45hjjomOHTvGt771rQr9jvlUUFAQtWvX3uS6LFy4cJO304iIFi1abHbdNrU/Puqoo6Jhw4a5x9UmTZrEkiVLtmj2de+X06ZNixUrVuQOnSwuLo4333wzpk+fHnPmzIkZM2bkTn/jjTc2ePUii9YeNlxWVhbDhg2Lt956K/ecZHP7to1dry+99FK0aNEid2RQUVFRzJgxI+bNmxe77LJL7nlFp06dYujQobF06dKIiGjTpk1ErDkCplmzZlGnTp346le/usFzp7U2dtjw3LlzN3sZW/ucZkf397//PRo0aBDTp0+PPn365B5HCgoKImLN29BOOOGEiFhzKO/aV+++eNjwmWeeGXfeeWe0bdt2k+vwn//8J7efb968edSvXz/efvvtjT5mbY/PPtgetnQf+L3vfW+z21u7D6zI89KN2dp9XUTEUUcdFdOnT49q1apFUVFRTJo0KVatWhUvvvhiXHnlldGvX78KP/956KGHYunSpZv9zINt7X8iXsvKyjY4bfXq1VGtWrWNfm9dp512WrRt2zaeeeaZuP766+OVV17Z5OEohYWFuQeRiIi33nor9ttvv6hWbeOfi9WxY8d44YUXYtCgQXHXXXdFaWlpfPe7343f/OY3EbHm8I7PP/88Pv74483OWbt27YiITf58YWFhPPzwwzFr1qx47rnn4qSTTor77rtvo79bUVFRbrsppfUuJ6UUpaWlERHr7SgKCgo2OG8WHHHEEbnDPNZ6+umnY9SoUdG7d+/o3r17LF68eIPZ27dvH8OGDYu//e1vsddee8Uee+wRpaWl0alTpxgyZEhErHmf4NrrYlOqVasWPXv2zL2n7sILL4xddtkl2rZtG507d8596Mzee+8dX/nKV+LPf/5zLFq0KJo1axZ/+ctftmgt99tvv212va01derUKC4ujs6dO+fea7b2fTZrd2prr7vVq1ev97PVq1fP/busrCy3k93Y6Zu7na29bZene/fu8bOf/SxOOeWUmDdvXu5w/U2t26xZs9a7r37yyScbbPOL97ktmeuwww6Lyy+/PObOnRsNGjRY74F+U7fBLz5+zJ8/P/cEf+31tu73v2jtfXLt/bGsrCz23nvv3B9TSktL1/swnhYtWsS5554by5cvj+OPPz4eeuihOOmkk3LzRax54rnuIdobu0+VlpbGT3/60zj99NMjIuKzzz6L6tWrx2uvvRaXXHJJnHbaadGxY8eoVq3aemu97uPWxn6+bt268cQTT8Rf//rXeOaZZ+K3v/1tTJo0abPX+1pDhgyJoqKi9Q45LSsri3vvvTd32scffxwNGzbMBWp5+4NNrcGXuU0PGTIk/vWvf8Wzzz4b/fr1iz59+mzRBwBuaytXrox33nknDjjggJgxY8ZG12Xs2LGbvJ1GRHz961/f7Lptan8c8eX3K+tet2VlZXH99dfHQQcdFBFrDqWrX79+jBs3Lvr165d7DPvkk0+ibt26W3Q521u1atWif//+cfzxx8c999wTP//5zze7b9vY9frF63ftY/TG1mfd22+NGjU2+JktVd5lbO1zmh3Zv//977jlllvioYceikGDBsUdd9wRffv2je985zvx97//PZo0aRI1a9bMPd6feuqpsWrVqg22U69evejUqVNMmzYtjjrqqA2+n1LK/RHhi6eXlpZu9DGrvEjbkWzJPvDTTz9d7z62evXq9e4za2/nFXleuilbsq9b933Jbdq0id/9//buNSiq8g/g+HfZZRFSYr2VoJAXvKGiiLo6gCOkoXFREW9JmYlaIkqJlyBlgNlq0ZAwe9VUI4XjECMy5ngXrWnwyoCjNpKW5DiCoTLKGiy7/xfMnr8k6FKYYL/PO9g95zl7nnPOc/+dL79ErVYzfvx4Ll++TF5eHgMHDsTJyalV9Z9Ro0YxdOhQ0tPT2yyA3OM8U9GGW6LX69mzZw/379/HbDbz3XffodfrGT9+PEVFRdy9e5e6ujr279//UMUkOjqae/fuKes5zp8/DzRWWP5aYff392fPnj1AY8M1Njb2kZVNaAxycfr0aY4ePYqvry8lJSVcuXIFgG3btmE0GunXrx81NTXK6FVhYWGz+2pp+/Pnz7NgwQLGjBnD2rVr6d+/P1euXGnxtz143vLy8gCoqKjgzJkzTdZVdATr1q3jhx9+oLKyEmjsIZs6dSpRUVG4urpSXFz8UCNUq9USGBiIwWAgIiICaGyMHDhwgD/++AOr1UpKSopdEft++uknpcf7xx9/JD4+npdffpljx44BKGlHRUWRnp6upNfavHwSOnXqxObNm5VeVavVyoULF5TRIZ1OR3l5OcBDPW62ympZWRk1NTUMHDgQgL1792K1Wrl27RqlpaWMHj26yXVWXV3NoUOHmg3I09w9Z+Pu7k6vXr349NNPiYiIUO67lvJt+PDhlJSUUFVVBYDBYODQoUNN0tDr9ezatYuGhgZMJhOFhYWMGzfOrnNnW8u3YcMGpk2b1uSzlq5Bf39/ioqKuHfvHmazmffee6/ZIFX26tevH3fu3OHUqVNAY6TWBwMy2Sqhzs7OGI1GjEYj5eXlhISEUFBQQEFBQbNBeP56T+n1egoKCpTjXr58Ofv27ePkyZOMHTuWefPm8dJLL3H06NFmO3xa2j4nJ4fs7GymTp3Kxo0bqa6u5u7du6jV6sd2HOl0OlJSUpT4BLZ0bIGIysvLCQ8Px2QyKZ/7+flRVlZGZWUlVquV77///rHPb/j/89i2ltvLy8uua9psNjNlyhR0Oh1Lly4lMjLyqQY9sVgsZGdn4+vri6enZ4v58rjrtKV8s2mpPG5rer1eiSJdWVlJREQE169fR6/Xs3PnTurr67l37x7z58+npKSkzdN/0jQaDWvWrGHbtm1UVVXZVbY9aPTo0ZSUlHDjxg0sFovyzO7Xrx+3b9+mtLQUaHyWu7u727322B72ptHacvBRZURH9ueff5KQkEBiYiJ9+vTho48+Iicnh5KSElasWMFnn32mzIoDuHjxIhUVFU061mxsnbdDhw5tMR/c3d3p3bs3+/fvBxrXxd68eRNvb+9mn1kajeaZPO8tsbcMdHV15fbt21RXV1NXV8fx48eb3V9r790Htaase/D+6Nq1K506deLIkSNKPWzbtm1MmjRJ2Ye99Z/BgwcTGxvLpUuXlPW9T9ozN/Jqm/plEx4eTmpqKhcuXCAqKgqz2UxAQAALFixAo9Hw+uuvM2fOHFxcXNDpdA9NPXn33XdZt24dGo0GFxcXZRptSEgIkZGRTaYZxsfHk5ycTEREBBqNBqPR+NjKT7du3YiNjcVoNLJ7924MBgOrVq3CYrHwwgsvkJGRgVarxWg0snbtWhwcHOjbt2+zIz89evRodnudTsfIkSMJCwvD2dkZPz8/goKCcHZ2bva32SQlJbFhwwblN6anp9OzZ8/WZchTZpvmYQvPHx0dzerVq9mzZw+Ojo74+fk1O+UlMjKS3bt388orrwCNN2dcXBxvvPEGFouFIUOGsGTJkmbTtI2cqFQqunTpQmpqKtC4SH/+/Pk4OTkxePBgPDw8+P333/Hy8mLKlCl88MEHyratzcsnQa/XExcXx7Jly5Qe3MDAQGUaYHx8PGlpaWzdupWAgIAm21ZUVCivqsnMzFQK0fv37xMVFUVdXR2pqanodDqWL19OSkoK4eHhNDQ0sGzZMnx8fJTOGhtbRaV79+7NhoSPiopizZo1HDhwQPlfS/nm5OREUlISb731FhaLhZEjRzJz5kyuXr3K1q1b2bRpEytXruTXX38lMjKS+vp6wsPDmTx5st2vRpk6dSoFBQUPhbpv6RqMjo5mwYIFzJ07F4vFwuTJk5kwYUKT6UmtodVqycrKUoJxdO7c+aHgUja+vr4sXLiQhIQE8vLyHjkF76/3VHBwMBcvXmT27Nk0NDQQGBjIjBkzqKysJC4uTpnNMWzYsGbvtZa2twVsCg8PR61Wk5iYiKurKxMmTOCTTz6hS5cuhIaGtnictmlttgpGcnIyGzZsUI7HaDQ2iRrZtWtXkpOTWbRoEVqtlt69e9u1FKK2tpbp06fj4ODA5s2bcXR0tOua1mg0xMfHs2jRIpycnOjWrdu/FpXVprKyUnnm2O4P21TDlvJFpVI98jqdPn16s/lmM2nSpGbLY9urPdpKXFwcKSkpSpCmxMREPD09mTt3Lr/99hszZszAbDYzc+ZMuzul2pugoCBGjRpFVlYWMTExdpVtNt27dyc5OZmFCxfi7OysRJ7VarVkZmaSlpaGyWTi+eefJzMzs02P2940WlsOVlRUKM/vliKnd0QGgwFvb2/lXvXw8GD9+vUkJiaya9cuMjMz2bJlCzdv3qS2tpZevXqxdu1a/P39KS4u5ty5c0RGRqJSqTCbzQwaNIjY2NhH5kNGRgYpKSlkZ2fj6OhIdnY2Wq222WeWq6sr7u7uxMTEPPMj4GB/GahSqVi8eDGzZs3ixRdfZPjw4c3uz956aUvsLetGjBjR5P4ICgqiqKiI5557Dr1ej8FgUEbj58yZ06r6j1arJSUlhXXr1jFu3LgnPptFZW2P8z3/JVeuXKGoqEhZH/f2228THR3d7HuVniaLxcKmTZuIi4vDxcWFL7/8khs3brT5O9nE02G1Wjl27Bi5ubnK9KiO7MGoog+yRSO1rQsRoj25desW27dvJy4uDgcHB9LT05Xop0IIIYRoH565kdfW8PDwoKysjLCwMFQqFQEBAcqQeXvi4OCAm5sbs2bNwtHREQ8PjzZ5Z55oHwwGA0eOHOnw79cVoiNzc3OjpqaGsLAw1Go1Pj4+SqAvIYQQQrQP/+mRVyGEEEIIIYQQHcN/ImCTEEIIIYQQQoiOTRqvQgghhBBCCCHaPWm8CiGEEEIIIYRo96TxKoQQQvwN9fX1BAQEsHjxYuV/xcXFhIWFtVkahw4dUl5jdvToUbKysgDIz89n6dKlbZaOEEII0RH8p6MNCyGEEH/XgQMHGDx4MOfOneOXX36hf//+bZ5GSEgIISEhAJSVlXHnzp02T0MIIYToKKTxKoQQQvwNubm5TJs2DU9PT77++mtSU1ObfF5dXc369eu5evUqbm5u9OjRA29vb1asWMGpU6cwGo2YTCYcHR1ZtWoVQUFB5Ofnalxs8gAAA7RJREFUk5eXh8lkonPnzsyYMYN9+/bxzjvvsGPHDhoaGujSpQteXl5UVVWxZMkSrl+/jlqtZvPmzfTv35+YmBh8fHwoKSmhurqa2bNnc/PmTU6cOIHJZGLLli0MGjSI/fv38/nnn6NSqVCr1axZs4YxY8Y8pbMphBBCPJ5MGxZCCCFaqby8nLNnzxIaGsr06dMpKCjg1q1bTb6Tnp7OgAED2Lt3L1lZWZw5cwaAW7duER8fT1JSEoWFhXz88cckJiZSUVGh7Hv79u1s375d2Zevry9z585l2rRpJCQkAFBRUaHsw9/fny+++EL5/rVr19ixYwcZGRlkZGQwduxY8vPzCQwMJCcnBwCj0cjGjRvJz89n5cqVFBcXP9FzJoQQQvxT0ngVQgghWik3N5dJkyah0+kYMWIEvXv3ZufOnU2+U1RUxJw5cwDo2bMnoaGhAJSWluLp6Ymvry8A3t7e+Pn5ceLECQAGDRpE586dH3sMI0aMwMvLC4AhQ4ZQXV2tfDZ58mQA+vTpA0BgYCAAnp6eytTjV199lbi4OJKSkqipqSE2NvbvnQwhhBDiXyKNVyGEEKIVamtrKSgo4PTp0wQHBxMcHExVVRU5OTmYzWblexqNBqvVqvzt4NBY5DY0NKBSqZrs02q1Ktu6uLjYdRwazf9X/qhUqiZpabXaJt91dHR8aPuEhAS+/fZbhg0bRn5+Pq+99ppd6QohhBBPizRehRBCiFYoLCzEzc2N48ePc/jwYQ4fPszBgwepra1tMvo5ceJE8vLygMapwgcPHkSlUjFy5EguX75MaWkpAJcuXeLkyZOMHTv2kemq1eomjeN/wmw2ExwcjMlkYt68eWzcuJGff/6Zurq6Ntm/EEII8SRIwCYhhBCiFXJzc3nzzTdRq9XK/1xdXYmJieGrr75S/rd+/XqSk5MJDw/Hzc0Nd3d3OnXqRNeuXcnKyiItLY379++jUqn48MMP6du3L2fPnm0xXb1ez+rVq0lLS8PHx+cf/QaNRsP777/P6tWr0Wg0qFQqDAbDQyO2QgghRHuisj44z0gIIYQQbeKbb75h6NChjBo1irq6OubPn8+KFSuYOHHi0z40IYQQokOSkVchhBDiCRgwYABpaWlYLBbq6+sJDQ2VhqsQQgjxD8jIqxBCCCGEEEKIdk8CNgkhhBBCCCGEaPek8SqEEEIIIYQQot2TxqsQQgghhBBCiHZPGq9CCCGEEEIIIdo9abwKIYQQQgghhGj3pPEqhBBCCCGEEKLd+x8fCjRystg7CwAAAABJRU5ErkJggg==\n",
      "text/plain": [
       "<Figure size 1152x648 with 1 Axes>"
      ]
     },
     "metadata": {},
     "output_type": "display_data"
    }
   ],
   "source": [
    "sns.set(rc={'figure.figsize':(16,9)})\n",
    "plt.xlabel(\"Algorithms\")\n",
    "plt.ylabel(\"Accuracy score\")\n",
    "sns.barplot(algorithms,scores)"
   ]
  },
  {
   "cell_type": "markdown",
   "metadata": {},
   "source": [
    "### RANDOM FOREST HAS MORE ACCURACY THAN OTHER, KNN HAS THE LEAST."
   ]
  }
 ],
 "metadata": {
  "kernelspec": {
   "display_name": "Python 3",
   "language": "python",
   "name": "python3"
  },
  "language_info": {
   "codemirror_mode": {
    "name": "ipython",
    "version": 3
   },
   "file_extension": ".py",
   "mimetype": "text/x-python",
   "name": "python",
   "nbconvert_exporter": "python",
   "pygments_lexer": "ipython3",
   "version": "3.7.6"
  }
 },
 "nbformat": 4,
 "nbformat_minor": 4
}
